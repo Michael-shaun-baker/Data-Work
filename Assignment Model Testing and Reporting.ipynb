{
 "cells": [
  {
   "cell_type": "markdown",
   "metadata": {},
   "source": [
    "# MATH2319 Machine Learning Project Phase 2"
   ]
  },
  {
   "cell_type": "markdown",
   "metadata": {},
   "source": [
    "# Contents\n",
    "* [Phase 1 Summary](#1)\n",
    "* [Methodology](#2)\n",
    "* [Data Preparation](#3)\n",
    "  - [Loading Dataset](#3.1)\n",
    "  - [Encoding Categorical features & Scaling](#3.2)\n",
    "* [Feature Importance](#4)\n",
    "* [Train-test Splitting](#5)\n",
    "* [Hyper Parameter Testing](#6)\n",
    "  - [K-Nearest Neighbours (KNN)](#6.1)\n",
    "  - [(Gaussian) Naive Bayes (NB)](#6.2)\n",
    "  - [Decision Tree (DT)](#6.3)\n",
    "* [Performance Comparison](#7)\n",
    "* [Critique](#8)\n",
    "* [Summary & Conclusion](#9)"
   ]
  },
  {
   "cell_type": "markdown",
   "metadata": {},
   "source": [
    "# Phase 1 Summary<a class=\"anchor\" id=\"1\"></a><br>\n",
    "Through phase 1's preparation of the data, I removed the 4 entries that contained missing values in the `Albumin/Globulin ratio`. Decided that keep the `Gender` data together as no large difference in trends could bee seen however they will be split due to the requirments of the analyitical functions. Lastly I chose to continue with all the variables as there was no clear correlations that could be removed as certain information was missing."
   ]
  },
  {
   "cell_type": "markdown",
   "metadata": {},
   "source": [
    "# Methodology<a class=\"anchor\" id=\"2\"></a>\n",
    "The objective of the report is build and test 3 different binomial classification models: `K-Nearest Neighbours (KNN)`, `Naive Bayes (NB)` and `Decision Tree (DT)` to find which best predicts the target feature.\n",
    "\n",
    "This report will be working off the data preparations done in phase 1. With further perparations of the categorical feature `Gender` been numerically split followed by scaling the descriptive features to enable further analytical capabilities. Lasty the dataset will be split into test/training with a 70/30 ratio split.\n",
    "\n",
    "In terms of feature selection I will be testing 3 different models `f_classif`, `Mutual Information` and `Random Forests`to see which best produces an outcome given all or a limited number of features.\n",
    "\n",
    "Using the training set together with a feature selection method inside a pipeline, we conduct a 3-repeated 5-fold stratified cross-validation to fine-tune hyperparameters of each classifier using **roc_auc** as the performance metric, given the target feature is an unbalanced dataset. \n",
    "\n",
    "Lastly through cross-validation and t-tests the best parameters from each model, confusion matrices will be built to best judge which model best predicts the outcome to our needs."
   ]
  },
  {
   "cell_type": "markdown",
   "metadata": {},
   "source": [
    "#  Data Preparation<a class=\"anchor\" id=\"3\"></a>\n",
    "## Loading Dataset<a class=\"anchor\" id=\"3.1\"></a>"
   ]
  },
  {
   "cell_type": "markdown",
   "metadata": {},
   "source": [
    "We start by reloading the dataset back to its state in phase 1, by reimporting the data and removing the 4 missing varibles."
   ]
  },
  {
   "cell_type": "code",
   "execution_count": 1,
   "metadata": {},
   "outputs": [],
   "source": [
    "import pandas as pd\n",
    "xls = pd.ExcelFile('indian_liver_patient.xlsx')\n",
    "df = xls.parse(index_col=None)\n",
    "df.to_csv('file.csv')"
   ]
  },
  {
   "cell_type": "code",
   "execution_count": 2,
   "metadata": {},
   "outputs": [
    {
     "name": "stdout",
     "output_type": "stream",
     "text": [
      "Missing Values check\n",
      "Age                           0\n",
      "Gender                        0\n",
      "Total_Bilirubin               0\n",
      "Direct_Bilirubin              0\n",
      "Alkaline_Phosphotase          0\n",
      "Alamine_Aminotransferase      0\n",
      "Aspartate_Aminotransferase    0\n",
      "Total_Protiens                0\n",
      "Albumin                       0\n",
      "Albumin_and_Globulin_Ratio    0\n",
      "Dataset                       0\n",
      "dtype: int64\n"
     ]
    }
   ],
   "source": [
    "import numpy as np\n",
    "df['Albumin_and_Globulin_Ratio'].replace('', np.nan, inplace=True)\n",
    "df.dropna(subset=['Albumin_and_Globulin_Ratio'], inplace=True)\n",
    "print(\"Missing Values check\")\n",
    "print(df.isnull().sum())"
   ]
  },
  {
   "cell_type": "markdown",
   "metadata": {},
   "source": [
    "## Encoding Categorical features & Scaling<a class=\"anchor\" id=\"3.2\"></a>"
   ]
  },
  {
   "cell_type": "markdown",
   "metadata": {},
   "source": [
    "We then split the dataset into `Data` and `target`, with the target been the `dataset` feature and the rest of the features remaining in Data.<br> \n",
    "At this point all of our features are numerical features with the exception of `Gender` thus we need to apply `get_dummies` as this will represent `Gender` through binomial variables 0/1, because further analysis will require all numerical features.<br>\n",
    "Lastly we scale the Dataset through a `robust` transformation as multiple features contains extreme outliers and this method of scaling works best with outliers."
   ]
  },
  {
   "cell_type": "code",
   "execution_count": 3,
   "metadata": {},
   "outputs": [
    {
     "name": "stdout",
     "output_type": "stream",
     "text": [
      "   Age  Total_Bilirubin  Direct_Bilirubin  Alkaline_Phosphotase  \\\n",
      "0   65              0.7               0.1                   187   \n",
      "1   62             10.9               5.5                   699   \n",
      "2   62              7.3               4.1                   490   \n",
      "3   58              1.0               0.4                   182   \n",
      "4   72              3.9               2.0                   195   \n",
      "\n",
      "   Alamine_Aminotransferase  Aspartate_Aminotransferase  Total_Protiens  \\\n",
      "0                        16                          18             6.8   \n",
      "1                        64                         100             7.5   \n",
      "2                        60                          68             7.0   \n",
      "3                        14                          20             6.8   \n",
      "4                        27                          59             7.3   \n",
      "\n",
      "   Albumin  Albumin_and_Globulin_Ratio  Gender_Male  \n",
      "0      3.3                        0.90            0  \n",
      "1      3.2                        0.74            1  \n",
      "2      3.3                        0.89            1  \n",
      "3      3.4                        1.00            1  \n",
      "4      2.4                        0.40            1  \n"
     ]
    }
   ],
   "source": [
    "from sklearn import preprocessing\n",
    "from sklearn.preprocessing import RobustScaler\n",
    "from sklearn import preprocessing\n",
    "from sklearn.model_selection import train_test_split\n",
    "\n",
    "Data = df.drop(columns = 'Dataset')\n",
    "Data_df = Data.copy()\n",
    "target = df['Dataset']\n",
    "Data=pd.get_dummies(Data, columns=[\"Gender\"], drop_first=True)\n",
    "print(Data.head(5))\n",
    "Data = preprocessing.RobustScaler().fit_transform(Data)\n",
    "target = preprocessing.LabelEncoder().fit_transform(target)\n",
    "target = np.abs(target - 1)"
   ]
  },
  {
   "cell_type": "markdown",
   "metadata": {},
   "source": [
    "# Feature Importance<a class=\"anchor\" id=\"4\"></a><br>"
   ]
  },
  {
   "cell_type": "markdown",
   "metadata": {},
   "source": [
    "Next we will find the most important features as modelled by the random forest Importance (RFI) as unlike other feature selection methods such as F-score or Mutual Information RFI , then display"
   ]
  },
  {
   "cell_type": "code",
   "execution_count": 4,
   "metadata": {},
   "outputs": [],
   "source": [
    "from sklearn.ensemble import RandomForestClassifier\n",
    "np.random.seed(333)\n",
    "num_features = 10\n",
    "model_rfi = RandomForestClassifier(n_estimators=100)\n",
    "model_rfi.fit(Data, target)\n",
    "fs_indices_rfi = np.argsort(model_rfi.feature_importances_)[::-1][0:num_features]\n",
    "\n",
    "best_features_rfi = Data_df.columns[fs_indices_rfi].values"
   ]
  },
  {
   "cell_type": "code",
   "execution_count": 5,
   "metadata": {},
   "outputs": [],
   "source": [
    "feature_importances_rfi = model_rfi.feature_importances_[fs_indices_rfi]"
   ]
  },
  {
   "cell_type": "code",
   "execution_count": 6,
   "metadata": {},
   "outputs": [
    {
     "data": {
      "application/javascript": [
       "var spec = {\"config\": {\"view\": {\"width\": 400, \"height\": 300}, \"mark\": {\"tooltip\": null}}, \"data\": {\"name\": \"data-91f4b7b006606050c1a449d32fcbc80e\"}, \"mark\": {\"type\": \"bar\", \"color\": \"green\", \"opacity\": 0.75}, \"encoding\": {\"x\": {\"type\": \"nominal\", \"axis\": {\"labelAngle\": 45}, \"field\": \"features\", \"sort\": null, \"title\": \"Feature\"}, \"y\": {\"type\": \"quantitative\", \"field\": \"importances\", \"title\": \"Importance\"}}, \"title\": \"Random Forest Feature Importances\", \"width\": 500, \"$schema\": \"https://vega.github.io/schema/vega-lite/v3.2.1.json\", \"datasets\": {\"data-91f4b7b006606050c1a449d32fcbc80e\": [{\"features\": \"Direct_Bilirubin\", \"importances\": 0.1502931763604753}, {\"features\": \"Alamine_Aminotransferase\", \"importances\": 0.13525508208171028}, {\"features\": \"Alkaline_Phosphotase\", \"importances\": 0.13077649772033964}, {\"features\": \"Age\", \"importances\": 0.1262790623167941}, {\"features\": \"Gender\", \"importances\": 0.10665616608221157}, {\"features\": \"Aspartate_Aminotransferase\", \"importances\": 0.08909695101212545}, {\"features\": \"Total_Protiens\", \"importances\": 0.0873437741079902}, {\"features\": \"Albumin\", \"importances\": 0.07936337926921243}, {\"features\": \"Total_Bilirubin\", \"importances\": 0.07528839691989099}, {\"features\": \"Albumin_and_Globulin_Ratio\", \"importances\": 0.019647514129250046}]}};\n",
       "var opt = {};\n",
       "var type = \"vega-lite\";\n",
       "var id = \"430b2241-7ac4-4e2b-bf6e-7d14f7a009dc\";\n",
       "\n",
       "var output_area = this;\n",
       "\n",
       "require([\"nbextensions/jupyter-vega/index\"], function(vega) {\n",
       "  var target = document.createElement(\"div\");\n",
       "  target.id = id;\n",
       "  target.className = \"vega-embed\";\n",
       "\n",
       "  var style = document.createElement(\"style\");\n",
       "  style.textContent = [\n",
       "    \".vega-embed .error p {\",\n",
       "    \"  color: firebrick;\",\n",
       "    \"  font-size: 14px;\",\n",
       "    \"}\",\n",
       "  ].join(\"\\\\n\");\n",
       "\n",
       "  // element is a jQuery wrapped DOM element inside the output area\n",
       "  // see http://ipython.readthedocs.io/en/stable/api/generated/\\\n",
       "  // IPython.display.html#IPython.display.Javascript.__init__\n",
       "  element[0].appendChild(target);\n",
       "  element[0].appendChild(style);\n",
       "\n",
       "  vega.render(\"#\" + id, spec, type, opt, output_area);\n",
       "}, function (err) {\n",
       "  if (err.requireType !== \"scripterror\") {\n",
       "    throw(err);\n",
       "  }\n",
       "});\n"
      ],
      "text/plain": [
       "<vega.vegalite.VegaLite at 0x257abb3deb8>"
      ]
     },
     "metadata": {
      "jupyter-vega": "#430b2241-7ac4-4e2b-bf6e-7d14f7a009dc"
     },
     "output_type": "display_data"
    },
    {
     "data": {
      "text/plain": []
     },
     "execution_count": 6,
     "metadata": {},
     "output_type": "execute_result"
    },
    {
     "data": {
      "image/png": "[encoded data removed]"
     },
     "metadata": {
      "jupyter-vega": "#430b2241-7ac4-4e2b-bf6e-7d14f7a009dc"
     },
     "output_type": "display_data"
    }
   ],
   "source": [
    "import altair as alt\n",
    "alt.renderers.enable('notebook')\n",
    "\n",
    "def plot_imp(best_features, scores, method_name, color):\n",
    "    \n",
    "    df = pd.DataFrame({'features': best_features, \n",
    "                       'importances': scores})\n",
    "    \n",
    "    chart = alt.Chart(df, \n",
    "                      width=500, \n",
    "                      title=method_name + ' Feature Importances'\n",
    "                     ).mark_bar(opacity=0.75, \n",
    "                                color=color).encode(\n",
    "        alt.X('features', title='Feature', sort=None, axis=alt.AxisConfig(labelAngle=45)),\n",
    "        alt.Y('importances', title='Importance')\n",
    "    )\n",
    "    \n",
    "    return chart\n",
    "plot_imp(best_features_rfi, feature_importances_rfi, 'Random Forest', 'green')"
   ]
  },
  {
   "cell_type": "markdown",
   "metadata": {},
   "source": [
    "We can see that `Direct Bilirubin`, `Alkaline Phosphotase`, `Age` and `Alamine Aminotransferase` are the most important features. "
   ]
  },
  {
   "cell_type": "markdown",
   "metadata": {},
   "source": [
    "# Feature Selection"
   ]
  },
  {
   "cell_type": "markdown",
   "metadata": {},
   "source": [
    "We shall preform some feature selection to see which method preforms the best on the given dataset."
   ]
  },
  {
   "cell_type": "code",
   "execution_count": 7,
   "metadata": {},
   "outputs": [],
   "source": [
    "from sklearn.neighbors import KNeighborsClassifier\n",
    "from sklearn.model_selection import RepeatedStratifiedKFold, cross_val_score\n",
    "clf = KNeighborsClassifier(n_neighbors=3)\n",
    "cv_method = RepeatedStratifiedKFold(n_splits=5, \n",
    "                                    n_repeats=3,\n",
    "                                    random_state=333)\n",
    "scoring_metric = 'roc_auc'"
   ]
  },
  {
   "cell_type": "markdown",
   "metadata": {},
   "source": [
    "## F-Score"
   ]
  },
  {
   "cell_type": "code",
   "execution_count": 8,
   "metadata": {},
   "outputs": [
    {
     "name": "stdout",
     "output_type": "stream",
     "text": [
      "0.717\n",
      "['Total_Bilirubin' 'Gender' 'Direct_Bilirubin' 'Albumin'\n",
      " 'Alkaline_Phosphotase' 'Total_Protiens' 'Alamine_Aminotransferase' 'Age'\n",
      " 'Albumin_and_Globulin_Ratio']\n"
     ]
    }
   ],
   "source": [
    "from sklearn import feature_selection as fs\n",
    "from sklearn.feature_selection import f_classif\n",
    "\n",
    "np.random.seed(333)\n",
    "Results_fscore=[]\n",
    "best_features_fscore=[]\n",
    "num_features = [1,2,3,4,5,6,7,8,9,10,Data.shape[1]]\n",
    "for x in num_features:\n",
    "    fs_fit_fscore = fs.SelectKBest(fs.f_classif, k=x)\n",
    "    fs_fit_fscore.fit_transform(Data, target)\n",
    "    fs_indices_fscore = np.argsort(fs_fit_fscore.scores_)[::-1][0:x]\n",
    "    best_features_fscore.append(df.columns[fs_indices_fscore].values)\n",
    "    cv_results_fscore = cross_val_score(clf,\n",
    "                                 Data[:, fs_indices_fscore],\n",
    "                                 target, \n",
    "                                 cv=cv_method, \n",
    "                                 scoring=scoring_metric)\n",
    "    Results_fscore.append(cv_results_fscore.mean().round(3))\n",
    "print(max(Results_fscore))\n",
    "print(best_features_fscore[Results_fscore.index(max(Results_fscore))])"
   ]
  },
  {
   "cell_type": "markdown",
   "metadata": {},
   "source": [
    "## Mutual Selection"
   ]
  },
  {
   "cell_type": "code",
   "execution_count": 9,
   "metadata": {},
   "outputs": [
    {
     "name": "stdout",
     "output_type": "stream",
     "text": [
      "0.732\n",
      "['Alamine_Aminotransferase' 'Gender' 'Alkaline_Phosphotase' 'Age'\n",
      " 'Total_Bilirubin' 'Direct_Bilirubin' 'Total_Protiens'\n",
      " 'Albumin_and_Globulin_Ratio']\n"
     ]
    }
   ],
   "source": [
    "from sklearn.feature_selection import mutual_info_classif\n",
    "\n",
    "np.random.seed(333)\n",
    "Results_mutual=[]\n",
    "best_features_mutual=[]\n",
    "num_features = [1,2,3,4,5,6,7,8,9,10,Data.shape[1]]\n",
    "for x in num_features:\n",
    "    fs_fit_mutual = fs.SelectKBest(fs.mutual_info_classif, k=x)\n",
    "    fs_fit_mutual.fit_transform(Data, target)\n",
    "    fs_indices_mutual = np.argsort(fs_fit_mutual.scores_)[::-1][0:x]\n",
    "    best_features_mutual.append(df.columns[fs_indices_mutual].values)\n",
    "    cv_results_fscore = cross_val_score(clf,\n",
    "                                 Data[:, fs_indices_mutual],\n",
    "                                 target, \n",
    "                                 cv=cv_method, \n",
    "                                 scoring=scoring_metric)\n",
    "    Results_mutual.append(cv_results_fscore.mean().round(3))\n",
    "print(max(Results_mutual))\n",
    "print(best_features_mutual[Results_mutual.index(max(Results_mutual))])"
   ]
  },
  {
   "cell_type": "markdown",
   "metadata": {},
   "source": [
    "## Random Forest"
   ]
  },
  {
   "cell_type": "code",
   "execution_count": 10,
   "metadata": {},
   "outputs": [
    {
     "name": "stdout",
     "output_type": "stream",
     "text": [
      "0.7\n",
      "['Direct_Bilirubin' 'Alamine_Aminotransferase' 'Alkaline_Phosphotase'\n",
      " 'Age' 'Gender' 'Aspartate_Aminotransferase' 'Total_Protiens'\n",
      " 'Total_Bilirubin' 'Albumin' 'Albumin_and_Globulin_Ratio']\n"
     ]
    }
   ],
   "source": [
    "from sklearn.ensemble import RandomForestClassifier\n",
    "\n",
    "np.random.seed(333)\n",
    "Results_forest=[]\n",
    "best_features_rfi=[]\n",
    "num_features = [1,2,3,4,5,6,7,8,9,10,Data.shape[1]]\n",
    "for x in num_features:\n",
    "    model_rfi = RandomForestClassifier(n_estimators=100)\n",
    "    model_rfi.fit(Data, target)\n",
    "    fs_indices_rfi = np.argsort(model_rfi.feature_importances_)[::-1][0:x]\n",
    "    best_features_rfi.append(df.columns[fs_indices_rfi].values)\n",
    "    cv_results_rfi = cross_val_score(clf,\n",
    "                                 Data[:, fs_indices_rfi],\n",
    "                                 target, \n",
    "                                 cv=cv_method, \n",
    "                                 scoring=scoring_metric)\n",
    "    Results_forest.append(cv_results_rfi.mean().round(3))\n",
    "print(max(Results_forest))\n",
    "print(best_features_rfi[Results_forest.index(max(Results_forest))])"
   ]
  },
  {
   "cell_type": "markdown",
   "metadata": {},
   "source": [
    "From the outcome of the three models we see that mutual information produced a slightly better result of 0.732 over f_classif but both still slightly superior to random forests 0.7, however given it is only a small advantage and the unbalanced target feature I will be using random forests to best help stabilize this imbalance."
   ]
  },
  {
   "cell_type": "markdown",
   "metadata": {},
   "source": [
    "## Train-test splitting<a class=\"anchor\" id=\"5\"></a><br>\n",
    "Splitting the Data and Target sets into test and training with a 70/30 ratio."
   ]
  },
  {
   "cell_type": "code",
   "execution_count": 11,
   "metadata": {},
   "outputs": [],
   "source": [
    "D_train, D_test, t_train, t_test = train_test_split(Data, target, test_size = 0.3, random_state=333)"
   ]
  },
  {
   "cell_type": "markdown",
   "metadata": {},
   "source": [
    "# Hyper Parameter Testing<a class=\"anchor\" id=\"6\"></a><br>"
   ]
  },
  {
   "cell_type": "markdown",
   "metadata": {},
   "source": [
    "For each model, we will use 3-repeated 5-fold stratified cross-validation evaluation method for hyperparameter tuning."
   ]
  },
  {
   "cell_type": "code",
   "execution_count": 12,
   "metadata": {},
   "outputs": [],
   "source": [
    "from sklearn.model_selection import RepeatedStratifiedKFold, GridSearchCV\n",
    "\n",
    "cv_method = RepeatedStratifiedKFold(n_repeats=3, n_splits=5, random_state=333)"
   ]
  },
  {
   "cell_type": "markdown",
   "metadata": {},
   "source": [
    "## K-Nearest Neighbours (KNN)<a class=\"anchor\" id=\"6.1\"></a><br>"
   ]
  },
  {
   "cell_type": "markdown",
   "metadata": {},
   "source": [
    "Our first model will be the KNN model, we shall use the previous Random Forest Importance (RFI) as above to select our features. All this will be done through a pipeline.<br>\n",
    "\n",
    "This function below will allow RFI to be implemented in a pipeline"
   ]
  },
  {
   "cell_type": "code",
   "execution_count": 13,
   "metadata": {},
   "outputs": [],
   "source": [
    "from sklearn.base import BaseEstimator, TransformerMixin\n",
    "\n",
    "# custom function for RFI feature selection\n",
    "# here we use n_estimators=100\n",
    "class RFIFeatureSelector(BaseEstimator, TransformerMixin):\n",
    "    \n",
    "    # class constructor \n",
    "    # make sure class attributes end with a \"_\"\n",
    "    # per scikit-learn convention to avoid errors\n",
    "    def __init__(self, n_features_=10):\n",
    "        self.n_features_ = n_features_\n",
    "        self.fs_indices_ = None\n",
    "\n",
    "    # override the fit function\n",
    "    def fit(self, X, y):\n",
    "        from sklearn.ensemble import RandomForestClassifier\n",
    "        from numpy import argsort\n",
    "        model_rfi = RandomForestClassifier(n_estimators=100)\n",
    "        model_rfi.fit(X, y)\n",
    "        self.fs_indices_ = argsort(model_rfi.feature_importances_)[::-1][0:self.n_features_] \n",
    "        return self \n",
    "    \n",
    "    # override the transform function\n",
    "    def transform(self, X, y=None):\n",
    "        return X[:, self.fs_indices_]\n"
   ]
  },
  {
   "cell_type": "code",
   "execution_count": 14,
   "metadata": {},
   "outputs": [
    {
     "name": "stdout",
     "output_type": "stream",
     "text": [
      "Fitting 15 folds for each of 363 candidates, totalling 5445 fits\n"
     ]
    },
    {
     "name": "stderr",
     "output_type": "stream",
     "text": [
      "[Parallel(n_jobs=-2)]: Using backend LokyBackend with 3 concurrent workers.\n",
      "[Parallel(n_jobs=-2)]: Done  44 tasks      | elapsed:    3.4s\n",
      "[Parallel(n_jobs=-2)]: Done 194 tasks      | elapsed:   10.8s\n",
      "[Parallel(n_jobs=-2)]: Done 444 tasks      | elapsed:   22.5s\n",
      "[Parallel(n_jobs=-2)]: Done 794 tasks      | elapsed:   38.5s\n",
      "[Parallel(n_jobs=-2)]: Done 1244 tasks      | elapsed:   59.0s\n",
      "[Parallel(n_jobs=-2)]: Done 1794 tasks      | elapsed:  1.4min\n",
      "[Parallel(n_jobs=-2)]: Done 2444 tasks      | elapsed:  2.0min\n",
      "[Parallel(n_jobs=-2)]: Done 3194 tasks      | elapsed:  2.6min\n",
      "[Parallel(n_jobs=-2)]: Done 4044 tasks      | elapsed:  3.2min\n",
      "[Parallel(n_jobs=-2)]: Done 4994 tasks      | elapsed:  4.0min\n"
     ]
    },
    {
     "name": "stdout",
     "output_type": "stream",
     "text": [
      "0.7367690058479532\n",
      "{'knn__n_neighbors': 10, 'knn__p': 2, 'rfi_fs__n_features_': 10}\n"
     ]
    },
    {
     "name": "stderr",
     "output_type": "stream",
     "text": [
      "[Parallel(n_jobs=-2)]: Done 5445 out of 5445 | elapsed:  4.3min finished\n"
     ]
    }
   ],
   "source": [
    "from sklearn.pipeline import Pipeline\n",
    "from sklearn.model_selection import GridSearchCV\n",
    "from sklearn.neighbors import KNeighborsClassifier\n",
    "\n",
    "np.random.seed(333)\n",
    "pipe_KNN = Pipeline(steps=[('rfi_fs', RFIFeatureSelector()), \n",
    "                           ('knn', KNeighborsClassifier())])\n",
    "\n",
    "params_pipe_KNN = {'rfi_fs__n_features_': [1,2,3,4,5,6,7,8,9,10,Data.shape[1]],\n",
    "                   'knn__n_neighbors': [1,2,3,4,5,6,7,8,9,10,11],\n",
    "                   'knn__p': [1, 2, 5]}\n",
    "\n",
    "gs_pipe_KNN = GridSearchCV(estimator=pipe_KNN, \n",
    "                           param_grid=params_pipe_KNN, \n",
    "                           cv=cv_method,\n",
    "                           refit=True,\n",
    "                           n_jobs=-2,\n",
    "                           scoring=scoring_metric,\n",
    "                           verbose=1)\n",
    "gs_pipe_KNN.fit(D_train, t_train)\n",
    "print(gs_pipe_KNN.best_score_)\n",
    "print(gs_pipe_KNN.best_params_)"
   ]
  },
  {
   "cell_type": "markdown",
   "metadata": {},
   "source": [
    "We observe that the optimal model for KNN has a mean recall score of 0.736 using 10 features, 10 nearest neighbours and p = 2."
   ]
  },
  {
   "cell_type": "code",
   "execution_count": 15,
   "metadata": {},
   "outputs": [],
   "source": [
    "def get_search_results(gs):\n",
    "\n",
    "    def model_result(scores, params):\n",
    "        scores = {'mean_score': np.mean(scores),\n",
    "             'std_score': np.std(scores),\n",
    "             'min_score': np.min(scores),\n",
    "             'max_score': np.max(scores)}\n",
    "        return pd.Series({**params,**scores})\n",
    "\n",
    "    models = []\n",
    "    scores = []\n",
    "\n",
    "    for i in range(gs.n_splits_):\n",
    "        key = f\"split{i}_test_score\"\n",
    "        r = gs.cv_results_[key]        \n",
    "        scores.append(r.reshape(-1,1))\n",
    "\n",
    "    all_scores = np.hstack(scores)\n",
    "    for p, s in zip(gs.cv_results_['params'], all_scores):\n",
    "        models.append((model_result(s, p)))\n",
    "\n",
    "    pipe_results = pd.concat(models, axis=1).T.sort_values(['mean_score'], ascending=False)\n",
    "\n",
    "    columns_first = ['mean_score', 'std_score', 'max_score', 'min_score']\n",
    "    columns = columns_first + [c for c in pipe_results.columns if c not in columns_first]\n",
    "\n",
    "    return pipe_results[columns]"
   ]
  },
  {
   "cell_type": "markdown",
   "metadata": {},
   "source": [
    "When comparing other model that are slightly worse that optimal we see that they are all extremely similar"
   ]
  },
  {
   "cell_type": "code",
   "execution_count": 16,
   "metadata": {},
   "outputs": [
    {
     "data": {
      "text/html": [
       "<div>\n",
       "<style scoped>\n",
       "    .dataframe tbody tr th:only-of-type {\n",
       "        vertical-align: middle;\n",
       "    }\n",
       "\n",
       "    .dataframe tbody tr th {\n",
       "        vertical-align: top;\n",
       "    }\n",
       "\n",
       "    .dataframe thead th {\n",
       "        text-align: right;\n",
       "    }\n",
       "</style>\n",
       "<table border=\"1\" class=\"dataframe\">\n",
       "  <thead>\n",
       "    <tr style=\"text-align: right;\">\n",
       "      <th></th>\n",
       "      <th>mean_score</th>\n",
       "      <th>std_score</th>\n",
       "      <th>max_score</th>\n",
       "      <th>min_score</th>\n",
       "      <th>knn__n_neighbors</th>\n",
       "      <th>knn__p</th>\n",
       "      <th>rfi_fs__n_features_</th>\n",
       "    </tr>\n",
       "  </thead>\n",
       "  <tbody>\n",
       "    <tr>\n",
       "      <th>317</th>\n",
       "      <td>0.736769</td>\n",
       "      <td>0.061335</td>\n",
       "      <td>0.823465</td>\n",
       "      <td>0.625731</td>\n",
       "      <td>10.0</td>\n",
       "      <td>2.0</td>\n",
       "      <td>10.0</td>\n",
       "    </tr>\n",
       "    <tr>\n",
       "      <th>318</th>\n",
       "      <td>0.736769</td>\n",
       "      <td>0.061335</td>\n",
       "      <td>0.823465</td>\n",
       "      <td>0.625731</td>\n",
       "      <td>10.0</td>\n",
       "      <td>2.0</td>\n",
       "      <td>10.0</td>\n",
       "    </tr>\n",
       "    <tr>\n",
       "      <th>351</th>\n",
       "      <td>0.733260</td>\n",
       "      <td>0.063486</td>\n",
       "      <td>0.832968</td>\n",
       "      <td>0.622076</td>\n",
       "      <td>11.0</td>\n",
       "      <td>2.0</td>\n",
       "      <td>10.0</td>\n",
       "    </tr>\n",
       "    <tr>\n",
       "      <th>350</th>\n",
       "      <td>0.733260</td>\n",
       "      <td>0.063486</td>\n",
       "      <td>0.832968</td>\n",
       "      <td>0.622076</td>\n",
       "      <td>11.0</td>\n",
       "      <td>2.0</td>\n",
       "      <td>10.0</td>\n",
       "    </tr>\n",
       "    <tr>\n",
       "      <th>362</th>\n",
       "      <td>0.732091</td>\n",
       "      <td>0.067746</td>\n",
       "      <td>0.835892</td>\n",
       "      <td>0.613304</td>\n",
       "      <td>11.0</td>\n",
       "      <td>5.0</td>\n",
       "      <td>10.0</td>\n",
       "    </tr>\n",
       "  </tbody>\n",
       "</table>\n",
       "</div>"
      ],
      "text/plain": [
       "     mean_score  std_score  max_score  min_score  knn__n_neighbors  knn__p  \\\n",
       "317    0.736769   0.061335   0.823465   0.625731              10.0     2.0   \n",
       "318    0.736769   0.061335   0.823465   0.625731              10.0     2.0   \n",
       "351    0.733260   0.063486   0.832968   0.622076              11.0     2.0   \n",
       "350    0.733260   0.063486   0.832968   0.622076              11.0     2.0   \n",
       "362    0.732091   0.067746   0.835892   0.613304              11.0     5.0   \n",
       "\n",
       "     rfi_fs__n_features_  \n",
       "317                 10.0  \n",
       "318                 10.0  \n",
       "351                 10.0  \n",
       "350                 10.0  \n",
       "362                 10.0  "
      ]
     },
     "execution_count": 16,
     "metadata": {},
     "output_type": "execute_result"
    }
   ],
   "source": [
    "gs_pipe_KNN_copy = gs_pipe_KNN\n",
    "gs_pipe_KNN_copy = get_search_results(gs_pipe_KNN)\n",
    "gs_pipe_KNN_copy.head()"
   ]
  },
  {
   "cell_type": "code",
   "execution_count": 17,
   "metadata": {},
   "outputs": [],
   "source": [
    "results_KNN = pd.DataFrame(gs_pipe_KNN.cv_results_['params'])\n",
    "results_KNN['test_score'] = gs_pipe_KNN.cv_results_['mean_test_score']\n",
    "results_KNN['metric'] = results_KNN['knn__p'].replace([1,2,5], [\"Manhattan\", \"Euclidean\", \"Minkowski\"])"
   ]
  },
  {
   "cell_type": "code",
   "execution_count": 18,
   "metadata": {},
   "outputs": [
    {
     "data": {
      "application/javascript": [
       "var spec = {\"config\": {\"view\": {\"width\": 400, \"height\": 300}, \"mark\": {\"tooltip\": null}}, \"data\": {\"name\": \"data-287c45c4694f8f0f2096cf08048befb2\"}, \"mark\": {\"type\": \"line\", \"point\": true}, \"encoding\": {\"color\": {\"type\": \"nominal\", \"field\": \"metric\"}, \"x\": {\"type\": \"quantitative\", \"field\": \"knn__n_neighbors\", \"title\": \"Number of Neighbors\"}, \"y\": {\"type\": \"quantitative\", \"field\": \"test_score\", \"scale\": {\"zero\": false}, \"title\": \"Mean CV Score\"}}, \"title\": \"KNN Performance Comparison\", \"$schema\": \"https://vega.github.io/schema/vega-lite/v3.2.1.json\", \"datasets\": {\"data-287c45c4694f8f0f2096cf08048befb2\": [{\"knn__n_neighbors\": 1, \"knn__p\": 1, \"rfi_fs__n_features_\": 10, \"test_score\": 0.6502192982456142, \"metric\": \"Manhattan\"}, {\"knn__n_neighbors\": 1, \"knn__p\": 1, \"rfi_fs__n_features_\": 10, \"test_score\": 0.6502192982456142, \"metric\": \"Manhattan\"}, {\"knn__n_neighbors\": 1, \"knn__p\": 2, \"rfi_fs__n_features_\": 10, \"test_score\": 0.6317251461988306, \"metric\": \"Euclidean\"}, {\"knn__n_neighbors\": 1, \"knn__p\": 2, \"rfi_fs__n_features_\": 10, \"test_score\": 0.6317251461988306, \"metric\": \"Euclidean\"}, {\"knn__n_neighbors\": 1, \"knn__p\": 5, \"rfi_fs__n_features_\": 10, \"test_score\": 0.6173976608187135, \"metric\": \"Minkowski\"}, {\"knn__n_neighbors\": 1, \"knn__p\": 5, \"rfi_fs__n_features_\": 10, \"test_score\": 0.6173976608187135, \"metric\": \"Minkowski\"}, {\"knn__n_neighbors\": 2, \"knn__p\": 1, \"rfi_fs__n_features_\": 10, \"test_score\": 0.680896686159844, \"metric\": \"Manhattan\"}, {\"knn__n_neighbors\": 2, \"knn__p\": 1, \"rfi_fs__n_features_\": 10, \"test_score\": 0.680896686159844, \"metric\": \"Manhattan\"}, {\"knn__n_neighbors\": 2, \"knn__p\": 2, \"rfi_fs__n_features_\": 10, \"test_score\": 0.6826023391812865, \"metric\": \"Euclidean\"}, {\"knn__n_neighbors\": 2, \"knn__p\": 2, \"rfi_fs__n_features_\": 10, \"test_score\": 0.6826023391812865, \"metric\": \"Euclidean\"}, {\"knn__n_neighbors\": 2, \"knn__p\": 5, \"rfi_fs__n_features_\": 10, \"test_score\": 0.6703947368421053, \"metric\": \"Minkowski\"}, {\"knn__n_neighbors\": 2, \"knn__p\": 5, \"rfi_fs__n_features_\": 10, \"test_score\": 0.6703947368421053, \"metric\": \"Minkowski\"}, {\"knn__n_neighbors\": 3, \"knn__p\": 1, \"rfi_fs__n_features_\": 10, \"test_score\": 0.687694931773879, \"metric\": \"Manhattan\"}, {\"knn__n_neighbors\": 3, \"knn__p\": 1, \"rfi_fs__n_features_\": 10, \"test_score\": 0.687694931773879, \"metric\": \"Manhattan\"}, {\"knn__n_neighbors\": 3, \"knn__p\": 2, \"rfi_fs__n_features_\": 10, \"test_score\": 0.6778752436647173, \"metric\": \"Euclidean\"}, {\"knn__n_neighbors\": 3, \"knn__p\": 2, \"rfi_fs__n_features_\": 10, \"test_score\": 0.6778752436647173, \"metric\": \"Euclidean\"}, {\"knn__n_neighbors\": 3, \"knn__p\": 5, \"rfi_fs__n_features_\": 10, \"test_score\": 0.6850146198830409, \"metric\": \"Minkowski\"}, {\"knn__n_neighbors\": 3, \"knn__p\": 5, \"rfi_fs__n_features_\": 10, \"test_score\": 0.6850146198830409, \"metric\": \"Minkowski\"}, {\"knn__n_neighbors\": 4, \"knn__p\": 1, \"rfi_fs__n_features_\": 10, \"test_score\": 0.7016081871345029, \"metric\": \"Manhattan\"}, {\"knn__n_neighbors\": 4, \"knn__p\": 1, \"rfi_fs__n_features_\": 10, \"test_score\": 0.7016081871345029, \"metric\": \"Manhattan\"}, {\"knn__n_neighbors\": 4, \"knn__p\": 2, \"rfi_fs__n_features_\": 10, \"test_score\": 0.7014132553606237, \"metric\": \"Euclidean\"}, {\"knn__n_neighbors\": 4, \"knn__p\": 2, \"rfi_fs__n_features_\": 10, \"test_score\": 0.7014132553606237, \"metric\": \"Euclidean\"}, {\"knn__n_neighbors\": 4, \"knn__p\": 5, \"rfi_fs__n_features_\": 10, \"test_score\": 0.6977095516569202, \"metric\": \"Minkowski\"}, {\"knn__n_neighbors\": 4, \"knn__p\": 5, \"rfi_fs__n_features_\": 10, \"test_score\": 0.6977095516569202, \"metric\": \"Minkowski\"}, {\"knn__n_neighbors\": 5, \"knn__p\": 1, \"rfi_fs__n_features_\": 10, \"test_score\": 0.7104288499025341, \"metric\": \"Manhattan\"}, {\"knn__n_neighbors\": 5, \"knn__p\": 1, \"rfi_fs__n_features_\": 10, \"test_score\": 0.7104288499025341, \"metric\": \"Manhattan\"}, {\"knn__n_neighbors\": 5, \"knn__p\": 2, \"rfi_fs__n_features_\": 10, \"test_score\": 0.7140107212475632, \"metric\": \"Euclidean\"}, {\"knn__n_neighbors\": 5, \"knn__p\": 2, \"rfi_fs__n_features_\": 10, \"test_score\": 0.7140107212475632, \"metric\": \"Euclidean\"}, {\"knn__n_neighbors\": 5, \"knn__p\": 5, \"rfi_fs__n_features_\": 10, \"test_score\": 0.6966617933723197, \"metric\": \"Minkowski\"}, {\"knn__n_neighbors\": 5, \"knn__p\": 5, \"rfi_fs__n_features_\": 10, \"test_score\": 0.6966617933723197, \"metric\": \"Minkowski\"}, {\"knn__n_neighbors\": 6, \"knn__p\": 1, \"rfi_fs__n_features_\": 10, \"test_score\": 0.7105750487329433, \"metric\": \"Manhattan\"}, {\"knn__n_neighbors\": 6, \"knn__p\": 1, \"rfi_fs__n_features_\": 10, \"test_score\": 0.7105750487329433, \"metric\": \"Manhattan\"}, {\"knn__n_neighbors\": 6, \"knn__p\": 2, \"rfi_fs__n_features_\": 10, \"test_score\": 0.7146929824561403, \"metric\": \"Euclidean\"}, {\"knn__n_neighbors\": 6, \"knn__p\": 2, \"rfi_fs__n_features_\": 10, \"test_score\": 0.7146929824561403, \"metric\": \"Euclidean\"}, {\"knn__n_neighbors\": 6, \"knn__p\": 5, \"rfi_fs__n_features_\": 10, \"test_score\": 0.6960769980506821, \"metric\": \"Minkowski\"}, {\"knn__n_neighbors\": 6, \"knn__p\": 5, \"rfi_fs__n_features_\": 10, \"test_score\": 0.6960769980506821, \"metric\": \"Minkowski\"}, {\"knn__n_neighbors\": 7, \"knn__p\": 1, \"rfi_fs__n_features_\": 10, \"test_score\": 0.7040448343079921, \"metric\": \"Manhattan\"}, {\"knn__n_neighbors\": 7, \"knn__p\": 1, \"rfi_fs__n_features_\": 10, \"test_score\": 0.7040448343079921, \"metric\": \"Manhattan\"}, {\"knn__n_neighbors\": 7, \"knn__p\": 2, \"rfi_fs__n_features_\": 10, \"test_score\": 0.7175925925925926, \"metric\": \"Euclidean\"}, {\"knn__n_neighbors\": 7, \"knn__p\": 2, \"rfi_fs__n_features_\": 10, \"test_score\": 0.7175925925925926, \"metric\": \"Euclidean\"}, {\"knn__n_neighbors\": 7, \"knn__p\": 5, \"rfi_fs__n_features_\": 10, \"test_score\": 0.7097953216374269, \"metric\": \"Minkowski\"}, {\"knn__n_neighbors\": 7, \"knn__p\": 5, \"rfi_fs__n_features_\": 10, \"test_score\": 0.7097953216374269, \"metric\": \"Minkowski\"}, {\"knn__n_neighbors\": 8, \"knn__p\": 1, \"rfi_fs__n_features_\": 10, \"test_score\": 0.7087962962962963, \"metric\": \"Manhattan\"}, {\"knn__n_neighbors\": 8, \"knn__p\": 1, \"rfi_fs__n_features_\": 10, \"test_score\": 0.7087962962962963, \"metric\": \"Manhattan\"}, {\"knn__n_neighbors\": 8, \"knn__p\": 2, \"rfi_fs__n_features_\": 10, \"test_score\": 0.717251461988304, \"metric\": \"Euclidean\"}, {\"knn__n_neighbors\": 8, \"knn__p\": 2, \"rfi_fs__n_features_\": 10, \"test_score\": 0.717251461988304, \"metric\": \"Euclidean\"}, {\"knn__n_neighbors\": 8, \"knn__p\": 5, \"rfi_fs__n_features_\": 10, \"test_score\": 0.7184941520467836, \"metric\": \"Minkowski\"}, {\"knn__n_neighbors\": 8, \"knn__p\": 5, \"rfi_fs__n_features_\": 10, \"test_score\": 0.7184941520467836, \"metric\": \"Minkowski\"}, {\"knn__n_neighbors\": 9, \"knn__p\": 1, \"rfi_fs__n_features_\": 10, \"test_score\": 0.7122563352826511, \"metric\": \"Manhattan\"}, {\"knn__n_neighbors\": 9, \"knn__p\": 1, \"rfi_fs__n_features_\": 10, \"test_score\": 0.7122563352826511, \"metric\": \"Manhattan\"}, {\"knn__n_neighbors\": 9, \"knn__p\": 2, \"rfi_fs__n_features_\": 10, \"test_score\": 0.7222709551656921, \"metric\": \"Euclidean\"}, {\"knn__n_neighbors\": 9, \"knn__p\": 2, \"rfi_fs__n_features_\": 10, \"test_score\": 0.7222709551656921, \"metric\": \"Euclidean\"}, {\"knn__n_neighbors\": 9, \"knn__p\": 5, \"rfi_fs__n_features_\": 10, \"test_score\": 0.7230750487329434, \"metric\": \"Minkowski\"}, {\"knn__n_neighbors\": 9, \"knn__p\": 5, \"rfi_fs__n_features_\": 10, \"test_score\": 0.7230750487329434, \"metric\": \"Minkowski\"}, {\"knn__n_neighbors\": 10, \"knn__p\": 1, \"rfi_fs__n_features_\": 10, \"test_score\": 0.7098440545808966, \"metric\": \"Manhattan\"}, {\"knn__n_neighbors\": 10, \"knn__p\": 1, \"rfi_fs__n_features_\": 10, \"test_score\": 0.7098440545808966, \"metric\": \"Manhattan\"}, {\"knn__n_neighbors\": 10, \"knn__p\": 2, \"rfi_fs__n_features_\": 10, \"test_score\": 0.7367690058479532, \"metric\": \"Euclidean\"}, {\"knn__n_neighbors\": 10, \"knn__p\": 2, \"rfi_fs__n_features_\": 10, \"test_score\": 0.7367690058479532, \"metric\": \"Euclidean\"}, {\"knn__n_neighbors\": 10, \"knn__p\": 5, \"rfi_fs__n_features_\": 10, \"test_score\": 0.7255116959064328, \"metric\": \"Minkowski\"}, {\"knn__n_neighbors\": 10, \"knn__p\": 5, \"rfi_fs__n_features_\": 10, \"test_score\": 0.7255116959064328, \"metric\": \"Minkowski\"}, {\"knn__n_neighbors\": 11, \"knn__p\": 1, \"rfi_fs__n_features_\": 10, \"test_score\": 0.7170077972709551, \"metric\": \"Manhattan\"}, {\"knn__n_neighbors\": 11, \"knn__p\": 1, \"rfi_fs__n_features_\": 10, \"test_score\": 0.7170077972709551, \"metric\": \"Manhattan\"}, {\"knn__n_neighbors\": 11, \"knn__p\": 2, \"rfi_fs__n_features_\": 10, \"test_score\": 0.7332602339181286, \"metric\": \"Euclidean\"}, {\"knn__n_neighbors\": 11, \"knn__p\": 2, \"rfi_fs__n_features_\": 10, \"test_score\": 0.7332602339181286, \"metric\": \"Euclidean\"}, {\"knn__n_neighbors\": 11, \"knn__p\": 5, \"rfi_fs__n_features_\": 10, \"test_score\": 0.7320906432748538, \"metric\": \"Minkowski\"}, {\"knn__n_neighbors\": 11, \"knn__p\": 5, \"rfi_fs__n_features_\": 10, \"test_score\": 0.7320906432748538, \"metric\": \"Minkowski\"}]}};\n",
       "var opt = {};\n",
       "var type = \"vega-lite\";\n",
       "var id = \"0c6688d9-36bf-4d08-82da-ab9148b37d89\";\n",
       "\n",
       "var output_area = this;\n",
       "\n",
       "require([\"nbextensions/jupyter-vega/index\"], function(vega) {\n",
       "  var target = document.createElement(\"div\");\n",
       "  target.id = id;\n",
       "  target.className = \"vega-embed\";\n",
       "\n",
       "  var style = document.createElement(\"style\");\n",
       "  style.textContent = [\n",
       "    \".vega-embed .error p {\",\n",
       "    \"  color: firebrick;\",\n",
       "    \"  font-size: 14px;\",\n",
       "    \"}\",\n",
       "  ].join(\"\\\\n\");\n",
       "\n",
       "  // element is a jQuery wrapped DOM element inside the output area\n",
       "  // see http://ipython.readthedocs.io/en/stable/api/generated/\\\n",
       "  // IPython.display.html#IPython.display.Javascript.__init__\n",
       "  element[0].appendChild(target);\n",
       "  element[0].appendChild(style);\n",
       "\n",
       "  vega.render(\"#\" + id, spec, type, opt, output_area);\n",
       "}, function (err) {\n",
       "  if (err.requireType !== \"scripterror\") {\n",
       "    throw(err);\n",
       "  }\n",
       "});\n"
      ],
      "text/plain": [
       "<vega.vegalite.VegaLite at 0x257abb590f0>"
      ]
     },
     "metadata": {
      "jupyter-vega": "#0c6688d9-36bf-4d08-82da-ab9148b37d89"
     },
     "output_type": "display_data"
    },
    {
     "data": {
      "text/plain": []
     },
     "execution_count": 18,
     "metadata": {},
     "output_type": "execute_result"
    },
    {
     "data": {
      "image/png": "[encoded data removed]"
     },
     "metadata": {
      "jupyter-vega": "#0c6688d9-36bf-4d08-82da-ab9148b37d89"
     },
     "output_type": "display_data"
    }
   ],
   "source": [
    "alt.Chart(results_KNN[results_KNN.rfi_fs__n_features_ == 10], \n",
    "           title='KNN Performance Comparison'\n",
    "          ).mark_line(point=True).encode(\n",
    "     alt.X('knn__n_neighbors', title='Number of Neighbors'),\n",
    "     alt.Y('test_score', title='Mean CV Score', scale=alt.Scale(zero=False)),\n",
    "     color='metric'\n",
    "    )"
   ]
  },
  {
   "cell_type": "markdown",
   "metadata": {},
   "source": [
    "## (Gaussian) Naive Bayes (NB)<a class=\"anchor\" id=\"6.2\"></a><br>"
   ]
  },
  {
   "cell_type": "code",
   "execution_count": 19,
   "metadata": {},
   "outputs": [
    {
     "name": "stdout",
     "output_type": "stream",
     "text": [
      "Fitting 15 folds for each of 20 candidates, totalling 300 fits\n"
     ]
    },
    {
     "name": "stderr",
     "output_type": "stream",
     "text": [
      "[Parallel(n_jobs=-2)]: Using backend LokyBackend with 3 concurrent workers.\n",
      "[Parallel(n_jobs=-2)]: Done  82 tasks      | elapsed:    3.5s\n"
     ]
    },
    {
     "name": "stdout",
     "output_type": "stream",
     "text": [
      "{'rfi_fs__n_features_': 7, 'nb__var_smoothing': 0.23101297000831597}\n",
      "0.7415692007797271\n"
     ]
    },
    {
     "name": "stderr",
     "output_type": "stream",
     "text": [
      "[Parallel(n_jobs=-2)]: Done 300 out of 300 | elapsed:   12.8s finished\n"
     ]
    }
   ],
   "source": [
    "from sklearn.naive_bayes import GaussianNB\n",
    "from sklearn.model_selection import RandomizedSearchCV\n",
    "from sklearn.preprocessing import PowerTransformer\n",
    "np.random.seed(333)\n",
    "x_transformed = PowerTransformer().fit_transform(D_train)\n",
    "pipe_NB = Pipeline([('rfi_fs', RFIFeatureSelector()), \n",
    "                     ('nb', GaussianNB())])\n",
    "\n",
    "params_pipe_NB = {'rfi_fs__n_features_': [1,2,3,4,5,6,7,8,9,10,11],\n",
    "                  'nb__var_smoothing': np.logspace(0,-9, num=100)}\n",
    "\n",
    "n_iter_search = 20\n",
    "gs_pipe_NB = RandomizedSearchCV(estimator=pipe_NB, \n",
    "                          param_distributions=params_pipe_NB, \n",
    "                          cv=cv_method,\n",
    "                          refit=True,\n",
    "                          n_jobs=-2,\n",
    "                          scoring=scoring_metric,\n",
    "                          n_iter=n_iter_search,\n",
    "                          verbose=1) \n",
    "\n",
    "gs_pipe_NB.fit(x_transformed, t_train);\n",
    "print(gs_pipe_NB.best_params_)\n",
    "print(gs_pipe_NB.best_score_)"
   ]
  },
  {
   "cell_type": "markdown",
   "metadata": {},
   "source": [
    "We observe that the optimal mean recall score is 0.74 with 7 features and a variable smoothing of 0.231."
   ]
  },
  {
   "cell_type": "code",
   "execution_count": 20,
   "metadata": {},
   "outputs": [],
   "source": [
    "results_NB = pd.DataFrame(gs_pipe_NB.cv_results_['params'])\n",
    "results_NB['test_score'] = gs_pipe_NB.cv_results_['mean_test_score']"
   ]
  },
  {
   "cell_type": "code",
   "execution_count": 21,
   "metadata": {},
   "outputs": [
    {
     "data": {
      "application/javascript": [
       "var spec = {\"config\": {\"view\": {\"width\": 400, \"height\": 300}, \"mark\": {\"tooltip\": null}}, \"data\": {\"name\": \"data-2b350c547e7e7d01b76e244df5998c80\"}, \"mark\": {\"type\": \"line\", \"point\": true}, \"encoding\": {\"x\": {\"type\": \"quantitative\", \"field\": \"nb__var_smoothing\", \"title\": \"Var. Smoothing\"}, \"y\": {\"type\": \"quantitative\", \"field\": \"test_score\", \"scale\": {\"zero\": false}, \"title\": \"Mean CV Score\"}}, \"selection\": {\"selector001\": {\"type\": \"interval\", \"bind\": \"scales\", \"encodings\": [\"x\", \"y\"]}}, \"title\": \"NB Performance Comparison\", \"$schema\": \"https://vega.github.io/schema/vega-lite/v3.2.1.json\", \"datasets\": {\"data-2b350c547e7e7d01b76e244df5998c80\": [{\"nb__var_smoothing\": 5.336699231206302e-08, \"rfi_fs__n_features_\": 10, \"test_score\": 0.7365009746588694}, {\"nb__var_smoothing\": 8.111308307896856e-09, \"rfi_fs__n_features_\": 10, \"test_score\": 0.7365009746588694}, {\"nb__var_smoothing\": 1.5199110829529332e-05, \"rfi_fs__n_features_\": 6, \"test_score\": 0.7381578947368421}, {\"nb__var_smoothing\": 2.848035868435805e-09, \"rfi_fs__n_features_\": 11, \"test_score\": 0.7365009746588694}, {\"nb__var_smoothing\": 1e-07, \"rfi_fs__n_features_\": 6, \"test_score\": 0.7393762183235866}, {\"nb__var_smoothing\": 1.2328467394420658e-05, \"rfi_fs__n_features_\": 10, \"test_score\": 0.7365009746588694}, {\"nb__var_smoothing\": 1.2328467394420658e-05, \"rfi_fs__n_features_\": 8, \"test_score\": 0.7371832358674463}, {\"nb__var_smoothing\": 0.005336699231206307, \"rfi_fs__n_features_\": 6, \"test_score\": 0.7387914230019493}, {\"nb__var_smoothing\": 0.0012328467394420659, \"rfi_fs__n_features_\": 5, \"test_score\": 0.7371832358674463}, {\"nb__var_smoothing\": 4.3287612810830526e-08, \"rfi_fs__n_features_\": 8, \"test_score\": 0.7364522417153995}, {\"nb__var_smoothing\": 6.579332246575682e-08, \"rfi_fs__n_features_\": 5, \"test_score\": 0.7359161793372319}, {\"nb__var_smoothing\": 0.533669923120631, \"rfi_fs__n_features_\": 4, \"test_score\": 0.7270955165692007}, {\"nb__var_smoothing\": 0.1, \"rfi_fs__n_features_\": 6, \"test_score\": 0.7385477582846003}, {\"nb__var_smoothing\": 0.0008111308307896872, \"rfi_fs__n_features_\": 2, \"test_score\": 0.6993421052631579}, {\"nb__var_smoothing\": 8.111308307896872e-07, \"rfi_fs__n_features_\": 6, \"test_score\": 0.7407894736842104}, {\"nb__var_smoothing\": 0.0015199110829529332, \"rfi_fs__n_features_\": 8, \"test_score\": 0.738352826510721}, {\"nb__var_smoothing\": 0.23101297000831597, \"rfi_fs__n_features_\": 7, \"test_score\": 0.7415692007797271}, {\"nb__var_smoothing\": 8.111308307896856e-09, \"rfi_fs__n_features_\": 8, \"test_score\": 0.7406432748538012}, {\"nb__var_smoothing\": 3.511191734215127e-05, \"rfi_fs__n_features_\": 3, \"test_score\": 0.7204191033138402}, {\"nb__var_smoothing\": 1.873817422860383e-05, \"rfi_fs__n_features_\": 11, \"test_score\": 0.7365009746588694}]}};\n",
       "var opt = {};\n",
       "var type = \"vega-lite\";\n",
       "var id = \"eef2bc4d-2132-44c9-9f48-a896a0307054\";\n",
       "\n",
       "var output_area = this;\n",
       "\n",
       "require([\"nbextensions/jupyter-vega/index\"], function(vega) {\n",
       "  var target = document.createElement(\"div\");\n",
       "  target.id = id;\n",
       "  target.className = \"vega-embed\";\n",
       "\n",
       "  var style = document.createElement(\"style\");\n",
       "  style.textContent = [\n",
       "    \".vega-embed .error p {\",\n",
       "    \"  color: firebrick;\",\n",
       "    \"  font-size: 14px;\",\n",
       "    \"}\",\n",
       "  ].join(\"\\\\n\");\n",
       "\n",
       "  // element is a jQuery wrapped DOM element inside the output area\n",
       "  // see http://ipython.readthedocs.io/en/stable/api/generated/\\\n",
       "  // IPython.display.html#IPython.display.Javascript.__init__\n",
       "  element[0].appendChild(target);\n",
       "  element[0].appendChild(style);\n",
       "\n",
       "  vega.render(\"#\" + id, spec, type, opt, output_area);\n",
       "}, function (err) {\n",
       "  if (err.requireType !== \"scripterror\") {\n",
       "    throw(err);\n",
       "  }\n",
       "});\n"
      ],
      "text/plain": [
       "<vega.vegalite.VegaLite at 0x257a68ce6d8>"
      ]
     },
     "metadata": {
      "jupyter-vega": "#eef2bc4d-2132-44c9-9f48-a896a0307054"
     },
     "output_type": "display_data"
    },
    {
     "data": {
      "text/plain": []
     },
     "execution_count": 21,
     "metadata": {},
     "output_type": "execute_result"
    },
    {
     "data": {
      "image/png": "[encoded data removed]"
     },
     "metadata": {
      "jupyter-vega": "#eef2bc4d-2132-44c9-9f48-a896a0307054"
     },
     "output_type": "display_data"
    }
   ],
   "source": [
    "alt.Chart(results_NB, \n",
    "          title='NB Performance Comparison'\n",
    "         ).mark_line(point=True).encode(\n",
    "    alt.X('nb__var_smoothing', title='Var. Smoothing'),\n",
    "    alt.Y('test_score', title='Mean CV Score', scale=alt.Scale(zero=False))\n",
    ").interactive()"
   ]
  },
  {
   "cell_type": "markdown",
   "metadata": {},
   "source": [
    "## Decision Tree (DT)<a class=\"anchor\" id=\"6.3\"></a><br>"
   ]
  },
  {
   "cell_type": "code",
   "execution_count": 37,
   "metadata": {},
   "outputs": [
    {
     "name": "stdout",
     "output_type": "stream",
     "text": [
      "Fitting 15 folds for each of 308 candidates, totalling 4620 fits\n"
     ]
    },
    {
     "name": "stderr",
     "output_type": "stream",
     "text": [
      "[Parallel(n_jobs=-2)]: Using backend LokyBackend with 3 concurrent workers.\n",
      "[Parallel(n_jobs=-2)]: Done  44 tasks      | elapsed:    9.3s\n",
      "[Parallel(n_jobs=-2)]: Done 194 tasks      | elapsed:   15.6s\n",
      "[Parallel(n_jobs=-2)]: Done 444 tasks      | elapsed:   26.7s\n",
      "[Parallel(n_jobs=-2)]: Done 794 tasks      | elapsed:   42.3s\n",
      "[Parallel(n_jobs=-2)]: Done 1244 tasks      | elapsed:  1.0min\n",
      "[Parallel(n_jobs=-2)]: Done 1794 tasks      | elapsed:  1.5min\n",
      "[Parallel(n_jobs=-2)]: Done 2444 tasks      | elapsed:  1.9min\n",
      "[Parallel(n_jobs=-2)]: Done 3194 tasks      | elapsed:  2.5min\n",
      "[Parallel(n_jobs=-2)]: Done 4044 tasks      | elapsed:  3.1min\n"
     ]
    },
    {
     "name": "stdout",
     "output_type": "stream",
     "text": [
      "0.722051656920078\n",
      "{'dt__max_depth': 4, 'dt__min_samples_split': 70, 'rfi_fs__n_features_': 7}\n"
     ]
    },
    {
     "name": "stderr",
     "output_type": "stream",
     "text": [
      "[Parallel(n_jobs=-2)]: Done 4620 out of 4620 | elapsed:  3.5min finished\n"
     ]
    }
   ],
   "source": [
    "from sklearn.tree import DecisionTreeClassifier\n",
    "np.random.seed(333)\n",
    "pipe_DT = Pipeline([('rfi_fs', RFIFeatureSelector()),\n",
    "                    ('dt', DecisionTreeClassifier(criterion='gini'))])\n",
    "\n",
    "params_pipe_DT = {'rfi_fs__n_features_': [1,2,3,4,5,6,7,8,9,10,Data.shape[1]],\n",
    "                  'dt__max_depth': [1,2,3,4,5,6,7],\n",
    "                  'dt__min_samples_split': [20,50,70,100]}\n",
    "\n",
    "gs_pipe_DT = GridSearchCV(estimator=pipe_DT, \n",
    "                          param_grid=params_pipe_DT, \n",
    "                          cv=cv_method,\n",
    "                          refit=True,\n",
    "                          n_jobs=-2,\n",
    "                          scoring=scoring_metric,\n",
    "                          verbose=1) \n",
    "\n",
    "gs_pipe_DT.fit(D_train, t_train);\n",
    "print(gs_pipe_DT.best_score_)\n",
    "print(gs_pipe_DT.best_params_)"
   ]
  },
  {
   "cell_type": "markdown",
   "metadata": {},
   "source": [
    "We observe that the optimal model for the Decision Tree is 0.722 with 7 features, 4 max depth and a minimum sample split of 70."
   ]
  },
  {
   "cell_type": "code",
   "execution_count": 38,
   "metadata": {},
   "outputs": [
    {
     "data": {
      "text/html": [
       "<div>\n",
       "<style scoped>\n",
       "    .dataframe tbody tr th:only-of-type {\n",
       "        vertical-align: middle;\n",
       "    }\n",
       "\n",
       "    .dataframe tbody tr th {\n",
       "        vertical-align: top;\n",
       "    }\n",
       "\n",
       "    .dataframe thead th {\n",
       "        text-align: right;\n",
       "    }\n",
       "</style>\n",
       "<table border=\"1\" class=\"dataframe\">\n",
       "  <thead>\n",
       "    <tr style=\"text-align: right;\">\n",
       "      <th></th>\n",
       "      <th>mean_score</th>\n",
       "      <th>std_score</th>\n",
       "      <th>max_score</th>\n",
       "      <th>min_score</th>\n",
       "      <th>dt__max_depth</th>\n",
       "      <th>dt__min_samples_split</th>\n",
       "      <th>rfi_fs__n_features_</th>\n",
       "    </tr>\n",
       "  </thead>\n",
       "  <tbody>\n",
       "    <tr>\n",
       "      <th>160</th>\n",
       "      <td>0.722052</td>\n",
       "      <td>0.039787</td>\n",
       "      <td>0.808114</td>\n",
       "      <td>0.669956</td>\n",
       "      <td>4.0</td>\n",
       "      <td>70.0</td>\n",
       "      <td>7.0</td>\n",
       "    </tr>\n",
       "    <tr>\n",
       "      <th>138</th>\n",
       "      <td>0.720419</td>\n",
       "      <td>0.042587</td>\n",
       "      <td>0.811769</td>\n",
       "      <td>0.643275</td>\n",
       "      <td>4.0</td>\n",
       "      <td>20.0</td>\n",
       "      <td>7.0</td>\n",
       "    </tr>\n",
       "    <tr>\n",
       "      <th>202</th>\n",
       "      <td>0.719055</td>\n",
       "      <td>0.040729</td>\n",
       "      <td>0.796784</td>\n",
       "      <td>0.651681</td>\n",
       "      <td>5.0</td>\n",
       "      <td>70.0</td>\n",
       "      <td>5.0</td>\n",
       "    </tr>\n",
       "    <tr>\n",
       "      <th>158</th>\n",
       "      <td>0.718738</td>\n",
       "      <td>0.043262</td>\n",
       "      <td>0.831140</td>\n",
       "      <td>0.663012</td>\n",
       "      <td>4.0</td>\n",
       "      <td>70.0</td>\n",
       "      <td>5.0</td>\n",
       "    </tr>\n",
       "    <tr>\n",
       "      <th>292</th>\n",
       "      <td>0.717178</td>\n",
       "      <td>0.052912</td>\n",
       "      <td>0.823099</td>\n",
       "      <td>0.605263</td>\n",
       "      <td>7.0</td>\n",
       "      <td>70.0</td>\n",
       "      <td>7.0</td>\n",
       "    </tr>\n",
       "  </tbody>\n",
       "</table>\n",
       "</div>"
      ],
      "text/plain": [
       "     mean_score  std_score  max_score  min_score  dt__max_depth  \\\n",
       "160    0.722052   0.039787   0.808114   0.669956            4.0   \n",
       "138    0.720419   0.042587   0.811769   0.643275            4.0   \n",
       "202    0.719055   0.040729   0.796784   0.651681            5.0   \n",
       "158    0.718738   0.043262   0.831140   0.663012            4.0   \n",
       "292    0.717178   0.052912   0.823099   0.605263            7.0   \n",
       "\n",
       "     dt__min_samples_split  rfi_fs__n_features_  \n",
       "160                   70.0                  7.0  \n",
       "138                   20.0                  7.0  \n",
       "202                   70.0                  5.0  \n",
       "158                   70.0                  5.0  \n",
       "292                   70.0                  7.0  "
      ]
     },
     "execution_count": 38,
     "metadata": {},
     "output_type": "execute_result"
    }
   ],
   "source": [
    "gs_pipe_DT_copy = gs_pipe_DT\n",
    "gs_pipe_DT_copy = get_search_results(gs_pipe_DT)\n",
    "gs_pipe_DT_copy.head()"
   ]
  },
  {
   "cell_type": "markdown",
   "metadata": {},
   "source": [
    "Through the chart above we see that there very small gap between the quality of thr top model and the preceding models."
   ]
  },
  {
   "cell_type": "code",
   "execution_count": 39,
   "metadata": {},
   "outputs": [
    {
     "data": {
      "text/plain": [
       "Index(['dt__max_depth', 'dt__min_samples_split', 'rfi_fs__n_features_',\n",
       "       'test_score'],\n",
       "      dtype='object')"
      ]
     },
     "execution_count": 39,
     "metadata": {},
     "output_type": "execute_result"
    }
   ],
   "source": [
    "results_DT = pd.DataFrame(gs_pipe_DT.cv_results_['params'])\n",
    "results_DT['test_score'] = gs_pipe_DT.cv_results_['mean_test_score']\n",
    "results_DT.columns"
   ]
  },
  {
   "cell_type": "code",
   "execution_count": 40,
   "metadata": {},
   "outputs": [
    {
     "data": {
      "application/javascript": [
       "var spec = {\"config\": {\"view\": {\"width\": 400, \"height\": 300}, \"mark\": {\"tooltip\": null}}, \"hconcat\": [{\"data\": {\"name\": \"data-b063af02e4615c9efedd79c3bb88eb88\"}, \"mark\": {\"type\": \"line\", \"point\": true}, \"encoding\": {\"color\": {\"type\": \"nominal\", \"field\": \"dt__min_samples_split\", \"title\": \"Min Sample split\"}, \"x\": {\"type\": \"quantitative\", \"field\": \"rfi_fs__n_features_\", \"title\": \"No. of Features\"}, \"y\": {\"type\": \"quantitative\", \"aggregate\": \"average\", \"field\": \"test_score\", \"scale\": {\"zero\": false}, \"title\": \"Mean CV Score\"}}, \"title\": \"DT Performance Comparison\"}, {\"data\": {\"name\": \"data-b063af02e4615c9efedd79c3bb88eb88\"}, \"mark\": {\"type\": \"line\", \"point\": true}, \"encoding\": {\"color\": {\"type\": \"nominal\", \"field\": \"dt__min_samples_split\"}, \"x\": {\"type\": \"quantitative\", \"field\": \"dt__max_depth\", \"title\": \"Max Depth\"}, \"y\": {\"type\": \"quantitative\", \"aggregate\": \"average\", \"field\": \"test_score\", \"scale\": {\"zero\": false}, \"title\": \"Mean CV Score\"}}, \"title\": \"DT Performance Comparison\"}], \"$schema\": \"https://vega.github.io/schema/vega-lite/v3.2.1.json\", \"datasets\": {\"data-b063af02e4615c9efedd79c3bb88eb88\": [{\"dt__max_depth\": 1, \"dt__min_samples_split\": 20, \"rfi_fs__n_features_\": 1, \"test_score\": 0.6395467836257309}, {\"dt__max_depth\": 1, \"dt__min_samples_split\": 20, \"rfi_fs__n_features_\": 2, \"test_score\": 0.6375730994152046}, {\"dt__max_depth\": 1, \"dt__min_samples_split\": 20, \"rfi_fs__n_features_\": 3, \"test_score\": 0.6274122807017543}, {\"dt__max_depth\": 1, \"dt__min_samples_split\": 20, \"rfi_fs__n_features_\": 4, \"test_score\": 0.6287280701754385}, {\"dt__max_depth\": 1, \"dt__min_samples_split\": 20, \"rfi_fs__n_features_\": 5, \"test_score\": 0.6241228070175439}, {\"dt__max_depth\": 1, \"dt__min_samples_split\": 20, \"rfi_fs__n_features_\": 6, \"test_score\": 0.6252923976608187}, {\"dt__max_depth\": 1, \"dt__min_samples_split\": 20, \"rfi_fs__n_features_\": 7, \"test_score\": 0.6256578947368421}, {\"dt__max_depth\": 1, \"dt__min_samples_split\": 20, \"rfi_fs__n_features_\": 8, \"test_score\": 0.6266812865497076}, {\"dt__max_depth\": 1, \"dt__min_samples_split\": 20, \"rfi_fs__n_features_\": 9, \"test_score\": 0.6279970760233918}, {\"dt__max_depth\": 1, \"dt__min_samples_split\": 20, \"rfi_fs__n_features_\": 10, \"test_score\": 0.6279970760233918}, {\"dt__max_depth\": 1, \"dt__min_samples_split\": 20, \"rfi_fs__n_features_\": 10, \"test_score\": 0.6279970760233918}, {\"dt__max_depth\": 1, \"dt__min_samples_split\": 50, \"rfi_fs__n_features_\": 1, \"test_score\": 0.6453947368421052}, {\"dt__max_depth\": 1, \"dt__min_samples_split\": 50, \"rfi_fs__n_features_\": 2, \"test_score\": 0.6375730994152046}, {\"dt__max_depth\": 1, \"dt__min_samples_split\": 50, \"rfi_fs__n_features_\": 3, \"test_score\": 0.6287280701754385}, {\"dt__max_depth\": 1, \"dt__min_samples_split\": 50, \"rfi_fs__n_features_\": 4, \"test_score\": 0.6287280701754385}, {\"dt__max_depth\": 1, \"dt__min_samples_split\": 50, \"rfi_fs__n_features_\": 5, \"test_score\": 0.627485380116959}, {\"dt__max_depth\": 1, \"dt__min_samples_split\": 50, \"rfi_fs__n_features_\": 6, \"test_score\": 0.6226608187134502}, {\"dt__max_depth\": 1, \"dt__min_samples_split\": 50, \"rfi_fs__n_features_\": 7, \"test_score\": 0.6237573099415205}, {\"dt__max_depth\": 1, \"dt__min_samples_split\": 50, \"rfi_fs__n_features_\": 8, \"test_score\": 0.626608187134503}, {\"dt__max_depth\": 1, \"dt__min_samples_split\": 50, \"rfi_fs__n_features_\": 9, \"test_score\": 0.6279970760233918}, {\"dt__max_depth\": 1, \"dt__min_samples_split\": 50, \"rfi_fs__n_features_\": 10, \"test_score\": 0.6279970760233918}, {\"dt__max_depth\": 1, \"dt__min_samples_split\": 50, \"rfi_fs__n_features_\": 10, \"test_score\": 0.6279970760233918}, {\"dt__max_depth\": 1, \"dt__min_samples_split\": 70, \"rfi_fs__n_features_\": 1, \"test_score\": 0.6453947368421052}, {\"dt__max_depth\": 1, \"dt__min_samples_split\": 70, \"rfi_fs__n_features_\": 2, \"test_score\": 0.635672514619883}, {\"dt__max_depth\": 1, \"dt__min_samples_split\": 70, \"rfi_fs__n_features_\": 3, \"test_score\": 0.6242690058479531}, {\"dt__max_depth\": 1, \"dt__min_samples_split\": 70, \"rfi_fs__n_features_\": 4, \"test_score\": 0.6287280701754385}, {\"dt__max_depth\": 1, \"dt__min_samples_split\": 70, \"rfi_fs__n_features_\": 5, \"test_score\": 0.6226608187134502}, {\"dt__max_depth\": 1, \"dt__min_samples_split\": 70, \"rfi_fs__n_features_\": 6, \"test_score\": 0.6266081871345028}, {\"dt__max_depth\": 1, \"dt__min_samples_split\": 70, \"rfi_fs__n_features_\": 7, \"test_score\": 0.6266812865497076}, {\"dt__max_depth\": 1, \"dt__min_samples_split\": 70, \"rfi_fs__n_features_\": 8, \"test_score\": 0.626608187134503}, {\"dt__max_depth\": 1, \"dt__min_samples_split\": 70, \"rfi_fs__n_features_\": 9, \"test_score\": 0.6279970760233918}, {\"dt__max_depth\": 1, \"dt__min_samples_split\": 70, \"rfi_fs__n_features_\": 10, \"test_score\": 0.6279970760233918}, {\"dt__max_depth\": 1, \"dt__min_samples_split\": 70, \"rfi_fs__n_features_\": 10, \"test_score\": 0.6279970760233918}, {\"dt__max_depth\": 1, \"dt__min_samples_split\": 100, \"rfi_fs__n_features_\": 1, \"test_score\": 0.6470760233918127}, {\"dt__max_depth\": 1, \"dt__min_samples_split\": 100, \"rfi_fs__n_features_\": 2, \"test_score\": 0.6434210526315789}, {\"dt__max_depth\": 1, \"dt__min_samples_split\": 100, \"rfi_fs__n_features_\": 3, \"test_score\": 0.6242690058479531}, {\"dt__max_depth\": 1, \"dt__min_samples_split\": 100, \"rfi_fs__n_features_\": 4, \"test_score\": 0.6287280701754385}, {\"dt__max_depth\": 1, \"dt__min_samples_split\": 100, \"rfi_fs__n_features_\": 5, \"test_score\": 0.6227339181286549}, {\"dt__max_depth\": 1, \"dt__min_samples_split\": 100, \"rfi_fs__n_features_\": 6, \"test_score\": 0.6247807017543859}, {\"dt__max_depth\": 1, \"dt__min_samples_split\": 100, \"rfi_fs__n_features_\": 7, \"test_score\": 0.625}, {\"dt__max_depth\": 1, \"dt__min_samples_split\": 100, \"rfi_fs__n_features_\": 8, \"test_score\": 0.626608187134503}, {\"dt__max_depth\": 1, \"dt__min_samples_split\": 100, \"rfi_fs__n_features_\": 9, \"test_score\": 0.6279970760233918}, {\"dt__max_depth\": 1, \"dt__min_samples_split\": 100, \"rfi_fs__n_features_\": 10, \"test_score\": 0.6279970760233918}, {\"dt__max_depth\": 1, \"dt__min_samples_split\": 100, \"rfi_fs__n_features_\": 10, \"test_score\": 0.6279970760233918}, {\"dt__max_depth\": 2, \"dt__min_samples_split\": 20, \"rfi_fs__n_features_\": 1, \"test_score\": 0.6210526315789474}, {\"dt__max_depth\": 2, \"dt__min_samples_split\": 20, \"rfi_fs__n_features_\": 2, \"test_score\": 0.6749269005847952}, {\"dt__max_depth\": 2, \"dt__min_samples_split\": 20, \"rfi_fs__n_features_\": 3, \"test_score\": 0.6727582846003898}, {\"dt__max_depth\": 2, \"dt__min_samples_split\": 20, \"rfi_fs__n_features_\": 4, \"test_score\": 0.6717105263157895}, {\"dt__max_depth\": 2, \"dt__min_samples_split\": 20, \"rfi_fs__n_features_\": 5, \"test_score\": 0.6759259259259259}, {\"dt__max_depth\": 2, \"dt__min_samples_split\": 20, \"rfi_fs__n_features_\": 6, \"test_score\": 0.6866228070175439}, {\"dt__max_depth\": 2, \"dt__min_samples_split\": 20, \"rfi_fs__n_features_\": 7, \"test_score\": 0.6895955165692007}, {\"dt__max_depth\": 2, \"dt__min_samples_split\": 20, \"rfi_fs__n_features_\": 8, \"test_score\": 0.6812378167641324}, {\"dt__max_depth\": 2, \"dt__min_samples_split\": 20, \"rfi_fs__n_features_\": 9, \"test_score\": 0.6866471734892786}, {\"dt__max_depth\": 2, \"dt__min_samples_split\": 20, \"rfi_fs__n_features_\": 10, \"test_score\": 0.6855019493177387}, {\"dt__max_depth\": 2, \"dt__min_samples_split\": 20, \"rfi_fs__n_features_\": 10, \"test_score\": 0.6866471734892786}, {\"dt__max_depth\": 2, \"dt__min_samples_split\": 50, \"rfi_fs__n_features_\": 1, \"test_score\": 0.6447368421052632}, {\"dt__max_depth\": 2, \"dt__min_samples_split\": 50, \"rfi_fs__n_features_\": 2, \"test_score\": 0.6745614035087718}, {\"dt__max_depth\": 2, \"dt__min_samples_split\": 50, \"rfi_fs__n_features_\": 3, \"test_score\": 0.6757553606237816}, {\"dt__max_depth\": 2, \"dt__min_samples_split\": 50, \"rfi_fs__n_features_\": 4, \"test_score\": 0.6717105263157895}, {\"dt__max_depth\": 2, \"dt__min_samples_split\": 50, \"rfi_fs__n_features_\": 5, \"test_score\": 0.6732943469785575}, {\"dt__max_depth\": 2, \"dt__min_samples_split\": 50, \"rfi_fs__n_features_\": 6, \"test_score\": 0.6855750487329434}, {\"dt__max_depth\": 2, \"dt__min_samples_split\": 50, \"rfi_fs__n_features_\": 7, \"test_score\": 0.6865009746588694}, {\"dt__max_depth\": 2, \"dt__min_samples_split\": 50, \"rfi_fs__n_features_\": 8, \"test_score\": 0.6868177387914229}, {\"dt__max_depth\": 2, \"dt__min_samples_split\": 50, \"rfi_fs__n_features_\": 9, \"test_score\": 0.6855019493177387}, {\"dt__max_depth\": 2, \"dt__min_samples_split\": 50, \"rfi_fs__n_features_\": 10, \"test_score\": 0.6855019493177387}, {\"dt__max_depth\": 2, \"dt__min_samples_split\": 50, \"rfi_fs__n_features_\": 10, \"test_score\": 0.6866471734892786}, {\"dt__max_depth\": 2, \"dt__min_samples_split\": 70, \"rfi_fs__n_features_\": 1, \"test_score\": 0.6447368421052632}, {\"dt__max_depth\": 2, \"dt__min_samples_split\": 70, \"rfi_fs__n_features_\": 2, \"test_score\": 0.6723684210526315}, {\"dt__max_depth\": 2, \"dt__min_samples_split\": 70, \"rfi_fs__n_features_\": 3, \"test_score\": 0.6692738791423002}, {\"dt__max_depth\": 2, \"dt__min_samples_split\": 70, \"rfi_fs__n_features_\": 4, \"test_score\": 0.6717105263157895}, {\"dt__max_depth\": 2, \"dt__min_samples_split\": 70, \"rfi_fs__n_features_\": 5, \"test_score\": 0.6810428849902536}, {\"dt__max_depth\": 2, \"dt__min_samples_split\": 70, \"rfi_fs__n_features_\": 6, \"test_score\": 0.6869395711500974}, {\"dt__max_depth\": 2, \"dt__min_samples_split\": 70, \"rfi_fs__n_features_\": 7, \"test_score\": 0.6873294346978557}, {\"dt__max_depth\": 2, \"dt__min_samples_split\": 70, \"rfi_fs__n_features_\": 8, \"test_score\": 0.6843810916179336}, {\"dt__max_depth\": 2, \"dt__min_samples_split\": 70, \"rfi_fs__n_features_\": 9, \"test_score\": 0.6866471734892786}, {\"dt__max_depth\": 2, \"dt__min_samples_split\": 70, \"rfi_fs__n_features_\": 10, \"test_score\": 0.6855019493177387}, {\"dt__max_depth\": 2, \"dt__min_samples_split\": 70, \"rfi_fs__n_features_\": 10, \"test_score\": 0.6855019493177387}, {\"dt__max_depth\": 2, \"dt__min_samples_split\": 100, \"rfi_fs__n_features_\": 1, \"test_score\": 0.6407407407407407}, {\"dt__max_depth\": 2, \"dt__min_samples_split\": 100, \"rfi_fs__n_features_\": 2, \"test_score\": 0.6750730994152047}, {\"dt__max_depth\": 2, \"dt__min_samples_split\": 100, \"rfi_fs__n_features_\": 3, \"test_score\": 0.6682504873294348}, {\"dt__max_depth\": 2, \"dt__min_samples_split\": 100, \"rfi_fs__n_features_\": 4, \"test_score\": 0.6702485380116959}, {\"dt__max_depth\": 2, \"dt__min_samples_split\": 100, \"rfi_fs__n_features_\": 5, \"test_score\": 0.677022417153996}, {\"dt__max_depth\": 2, \"dt__min_samples_split\": 100, \"rfi_fs__n_features_\": 6, \"test_score\": 0.6796052631578947}, {\"dt__max_depth\": 2, \"dt__min_samples_split\": 100, \"rfi_fs__n_features_\": 7, \"test_score\": 0.6823343079922026}, {\"dt__max_depth\": 2, \"dt__min_samples_split\": 100, \"rfi_fs__n_features_\": 8, \"test_score\": 0.6854044834307991}, {\"dt__max_depth\": 2, \"dt__min_samples_split\": 100, \"rfi_fs__n_features_\": 9, \"test_score\": 0.6865984405458089}, {\"dt__max_depth\": 2, \"dt__min_samples_split\": 100, \"rfi_fs__n_features_\": 10, \"test_score\": 0.6877436647173488}, {\"dt__max_depth\": 2, \"dt__min_samples_split\": 100, \"rfi_fs__n_features_\": 10, \"test_score\": 0.6877436647173488}, {\"dt__max_depth\": 3, \"dt__min_samples_split\": 20, \"rfi_fs__n_features_\": 1, \"test_score\": 0.6432748538011696}, {\"dt__max_depth\": 3, \"dt__min_samples_split\": 20, \"rfi_fs__n_features_\": 2, \"test_score\": 0.6626218323586743}, {\"dt__max_depth\": 3, \"dt__min_samples_split\": 20, \"rfi_fs__n_features_\": 3, \"test_score\": 0.6925925925925925}, {\"dt__max_depth\": 3, \"dt__min_samples_split\": 20, \"rfi_fs__n_features_\": 4, \"test_score\": 0.6946881091617932}, {\"dt__max_depth\": 3, \"dt__min_samples_split\": 20, \"rfi_fs__n_features_\": 5, \"test_score\": 0.6960526315789473}, {\"dt__max_depth\": 3, \"dt__min_samples_split\": 20, \"rfi_fs__n_features_\": 6, \"test_score\": 0.7067738791423003}, {\"dt__max_depth\": 3, \"dt__min_samples_split\": 20, \"rfi_fs__n_features_\": 7, \"test_score\": 0.7098927875243665}, {\"dt__max_depth\": 3, \"dt__min_samples_split\": 20, \"rfi_fs__n_features_\": 8, \"test_score\": 0.6994883040935671}, {\"dt__max_depth\": 3, \"dt__min_samples_split\": 20, \"rfi_fs__n_features_\": 9, \"test_score\": 0.6919834307992202}, {\"dt__max_depth\": 3, \"dt__min_samples_split\": 20, \"rfi_fs__n_features_\": 10, \"test_score\": 0.6934210526315788}, {\"dt__max_depth\": 3, \"dt__min_samples_split\": 20, \"rfi_fs__n_features_\": 10, \"test_score\": 0.6919834307992202}, {\"dt__max_depth\": 3, \"dt__min_samples_split\": 50, \"rfi_fs__n_features_\": 1, \"test_score\": 0.6563109161793372}, {\"dt__max_depth\": 3, \"dt__min_samples_split\": 50, \"rfi_fs__n_features_\": 2, \"test_score\": 0.6660331384015593}, {\"dt__max_depth\": 3, \"dt__min_samples_split\": 50, \"rfi_fs__n_features_\": 3, \"test_score\": 0.6994883040935672}, {\"dt__max_depth\": 3, \"dt__min_samples_split\": 50, \"rfi_fs__n_features_\": 4, \"test_score\": 0.693153021442495}, {\"dt__max_depth\": 3, \"dt__min_samples_split\": 50, \"rfi_fs__n_features_\": 5, \"test_score\": 0.7046539961013645}, {\"dt__max_depth\": 3, \"dt__min_samples_split\": 50, \"rfi_fs__n_features_\": 6, \"test_score\": 0.7004385964912281}, {\"dt__max_depth\": 3, \"dt__min_samples_split\": 50, \"rfi_fs__n_features_\": 7, \"test_score\": 0.7037524366471734}, {\"dt__max_depth\": 3, \"dt__min_samples_split\": 50, \"rfi_fs__n_features_\": 8, \"test_score\": 0.6974415204678361}, {\"dt__max_depth\": 3, \"dt__min_samples_split\": 50, \"rfi_fs__n_features_\": 9, \"test_score\": 0.694054580896686}, {\"dt__max_depth\": 3, \"dt__min_samples_split\": 50, \"rfi_fs__n_features_\": 10, \"test_score\": 0.694054580896686}, {\"dt__max_depth\": 3, \"dt__min_samples_split\": 50, \"rfi_fs__n_features_\": 10, \"test_score\": 0.694054580896686}, {\"dt__max_depth\": 3, \"dt__min_samples_split\": 70, \"rfi_fs__n_features_\": 1, \"test_score\": 0.6475389863547758}, {\"dt__max_depth\": 3, \"dt__min_samples_split\": 70, \"rfi_fs__n_features_\": 2, \"test_score\": 0.6851364522417155}, {\"dt__max_depth\": 3, \"dt__min_samples_split\": 70, \"rfi_fs__n_features_\": 3, \"test_score\": 0.6913986354775828}, {\"dt__max_depth\": 3, \"dt__min_samples_split\": 70, \"rfi_fs__n_features_\": 4, \"test_score\": 0.6971978557504872}, {\"dt__max_depth\": 3, \"dt__min_samples_split\": 70, \"rfi_fs__n_features_\": 5, \"test_score\": 0.7104775828460038}, {\"dt__max_depth\": 3, \"dt__min_samples_split\": 70, \"rfi_fs__n_features_\": 6, \"test_score\": 0.7071637426900584}, {\"dt__max_depth\": 3, \"dt__min_samples_split\": 70, \"rfi_fs__n_features_\": 7, \"test_score\": 0.6981968810916178}, {\"dt__max_depth\": 3, \"dt__min_samples_split\": 70, \"rfi_fs__n_features_\": 8, \"test_score\": 0.6992202729044834}, {\"dt__max_depth\": 3, \"dt__min_samples_split\": 70, \"rfi_fs__n_features_\": 9, \"test_score\": 0.694054580896686}, {\"dt__max_depth\": 3, \"dt__min_samples_split\": 70, \"rfi_fs__n_features_\": 10, \"test_score\": 0.694054580896686}, {\"dt__max_depth\": 3, \"dt__min_samples_split\": 70, \"rfi_fs__n_features_\": 10, \"test_score\": 0.694054580896686}, {\"dt__max_depth\": 3, \"dt__min_samples_split\": 100, \"rfi_fs__n_features_\": 1, \"test_score\": 0.6418859649122807}, {\"dt__max_depth\": 3, \"dt__min_samples_split\": 100, \"rfi_fs__n_features_\": 2, \"test_score\": 0.6764376218323587}, {\"dt__max_depth\": 3, \"dt__min_samples_split\": 100, \"rfi_fs__n_features_\": 3, \"test_score\": 0.6926900584795321}, {\"dt__max_depth\": 3, \"dt__min_samples_split\": 100, \"rfi_fs__n_features_\": 4, \"test_score\": 0.6956871345029239}, {\"dt__max_depth\": 3, \"dt__min_samples_split\": 100, \"rfi_fs__n_features_\": 5, \"test_score\": 0.695199805068226}, {\"dt__max_depth\": 3, \"dt__min_samples_split\": 100, \"rfi_fs__n_features_\": 6, \"test_score\": 0.6980019493177387}, {\"dt__max_depth\": 3, \"dt__min_samples_split\": 100, \"rfi_fs__n_features_\": 7, \"test_score\": 0.6969298245614034}, {\"dt__max_depth\": 3, \"dt__min_samples_split\": 100, \"rfi_fs__n_features_\": 8, \"test_score\": 0.6943226120857698}, {\"dt__max_depth\": 3, \"dt__min_samples_split\": 100, \"rfi_fs__n_features_\": 9, \"test_score\": 0.6931773879142299}, {\"dt__max_depth\": 3, \"dt__min_samples_split\": 100, \"rfi_fs__n_features_\": 10, \"test_score\": 0.6925194931773878}, {\"dt__max_depth\": 3, \"dt__min_samples_split\": 100, \"rfi_fs__n_features_\": 10, \"test_score\": 0.6925194931773878}, {\"dt__max_depth\": 4, \"dt__min_samples_split\": 20, \"rfi_fs__n_features_\": 1, \"test_score\": 0.6284844054580897}, {\"dt__max_depth\": 4, \"dt__min_samples_split\": 20, \"rfi_fs__n_features_\": 2, \"test_score\": 0.6580409356725145}, {\"dt__max_depth\": 4, \"dt__min_samples_split\": 20, \"rfi_fs__n_features_\": 3, \"test_score\": 0.6905701754385966}, {\"dt__max_depth\": 4, \"dt__min_samples_split\": 20, \"rfi_fs__n_features_\": 4, \"test_score\": 0.6923245614035086}, {\"dt__max_depth\": 4, \"dt__min_samples_split\": 20, \"rfi_fs__n_features_\": 5, \"test_score\": 0.6950292397660819}, {\"dt__max_depth\": 4, \"dt__min_samples_split\": 20, \"rfi_fs__n_features_\": 6, \"test_score\": 0.704751461988304}, {\"dt__max_depth\": 4, \"dt__min_samples_split\": 20, \"rfi_fs__n_features_\": 7, \"test_score\": 0.7204191033138402}, {\"dt__max_depth\": 4, \"dt__min_samples_split\": 20, \"rfi_fs__n_features_\": 8, \"test_score\": 0.6980750487329435}, {\"dt__max_depth\": 4, \"dt__min_samples_split\": 20, \"rfi_fs__n_features_\": 9, \"test_score\": 0.7028752436647173}, {\"dt__max_depth\": 4, \"dt__min_samples_split\": 20, \"rfi_fs__n_features_\": 10, \"test_score\": 0.7022173489278752}, {\"dt__max_depth\": 4, \"dt__min_samples_split\": 20, \"rfi_fs__n_features_\": 10, \"test_score\": 0.7041179337231969}, {\"dt__max_depth\": 4, \"dt__min_samples_split\": 50, \"rfi_fs__n_features_\": 1, \"test_score\": 0.6387183235867447}, {\"dt__max_depth\": 4, \"dt__min_samples_split\": 50, \"rfi_fs__n_features_\": 2, \"test_score\": 0.6728801169590642}, {\"dt__max_depth\": 4, \"dt__min_samples_split\": 50, \"rfi_fs__n_features_\": 3, \"test_score\": 0.6992446393762183}, {\"dt__max_depth\": 4, \"dt__min_samples_split\": 50, \"rfi_fs__n_features_\": 4, \"test_score\": 0.695004873294347}, {\"dt__max_depth\": 4, \"dt__min_samples_split\": 50, \"rfi_fs__n_features_\": 5, \"test_score\": 0.7107943469785575}, {\"dt__max_depth\": 4, \"dt__min_samples_split\": 50, \"rfi_fs__n_features_\": 6, \"test_score\": 0.7142543859649124}, {\"dt__max_depth\": 4, \"dt__min_samples_split\": 50, \"rfi_fs__n_features_\": 7, \"test_score\": 0.7138645224171541}, {\"dt__max_depth\": 4, \"dt__min_samples_split\": 50, \"rfi_fs__n_features_\": 8, \"test_score\": 0.709356725146199}, {\"dt__max_depth\": 4, \"dt__min_samples_split\": 50, \"rfi_fs__n_features_\": 9, \"test_score\": 0.6991471734892788}, {\"dt__max_depth\": 4, \"dt__min_samples_split\": 50, \"rfi_fs__n_features_\": 10, \"test_score\": 0.6991471734892788}, {\"dt__max_depth\": 4, \"dt__min_samples_split\": 50, \"rfi_fs__n_features_\": 10, \"test_score\": 0.6991471734892788}, {\"dt__max_depth\": 4, \"dt__min_samples_split\": 70, \"rfi_fs__n_features_\": 1, \"test_score\": 0.6465399610136452}, {\"dt__max_depth\": 4, \"dt__min_samples_split\": 70, \"rfi_fs__n_features_\": 2, \"test_score\": 0.6737085769980505}, {\"dt__max_depth\": 4, \"dt__min_samples_split\": 70, \"rfi_fs__n_features_\": 3, \"test_score\": 0.6908869395711501}, {\"dt__max_depth\": 4, \"dt__min_samples_split\": 70, \"rfi_fs__n_features_\": 4, \"test_score\": 0.7063840155945418}, {\"dt__max_depth\": 4, \"dt__min_samples_split\": 70, \"rfi_fs__n_features_\": 5, \"test_score\": 0.7187378167641326}, {\"dt__max_depth\": 4, \"dt__min_samples_split\": 70, \"rfi_fs__n_features_\": 6, \"test_score\": 0.7103801169590644}, {\"dt__max_depth\": 4, \"dt__min_samples_split\": 70, \"rfi_fs__n_features_\": 7, \"test_score\": 0.722051656920078}, {\"dt__max_depth\": 4, \"dt__min_samples_split\": 70, \"rfi_fs__n_features_\": 8, \"test_score\": 0.706384015594542}, {\"dt__max_depth\": 4, \"dt__min_samples_split\": 70, \"rfi_fs__n_features_\": 9, \"test_score\": 0.6996588693957115}, {\"dt__max_depth\": 4, \"dt__min_samples_split\": 70, \"rfi_fs__n_features_\": 10, \"test_score\": 0.6996588693957115}, {\"dt__max_depth\": 4, \"dt__min_samples_split\": 70, \"rfi_fs__n_features_\": 10, \"test_score\": 0.6996588693957115}, {\"dt__max_depth\": 4, \"dt__min_samples_split\": 100, \"rfi_fs__n_features_\": 1, \"test_score\": 0.6552631578947367}, {\"dt__max_depth\": 4, \"dt__min_samples_split\": 100, \"rfi_fs__n_features_\": 2, \"test_score\": 0.6698586744639378}, {\"dt__max_depth\": 4, \"dt__min_samples_split\": 100, \"rfi_fs__n_features_\": 3, \"test_score\": 0.6970272904483432}, {\"dt__max_depth\": 4, \"dt__min_samples_split\": 100, \"rfi_fs__n_features_\": 4, \"test_score\": 0.6993421052631579}, {\"dt__max_depth\": 4, \"dt__min_samples_split\": 100, \"rfi_fs__n_features_\": 5, \"test_score\": 0.7078947368421052}, {\"dt__max_depth\": 4, \"dt__min_samples_split\": 100, \"rfi_fs__n_features_\": 6, \"test_score\": 0.705214424951267}, {\"dt__max_depth\": 4, \"dt__min_samples_split\": 100, \"rfi_fs__n_features_\": 7, \"test_score\": 0.7089424951267056}, {\"dt__max_depth\": 4, \"dt__min_samples_split\": 100, \"rfi_fs__n_features_\": 8, \"test_score\": 0.7000730994152046}, {\"dt__max_depth\": 4, \"dt__min_samples_split\": 100, \"rfi_fs__n_features_\": 9, \"test_score\": 0.7056530214424952}, {\"dt__max_depth\": 4, \"dt__min_samples_split\": 100, \"rfi_fs__n_features_\": 10, \"test_score\": 0.7059941520467836}, {\"dt__max_depth\": 4, \"dt__min_samples_split\": 100, \"rfi_fs__n_features_\": 10, \"test_score\": 0.7056530214424952}, {\"dt__max_depth\": 5, \"dt__min_samples_split\": 20, \"rfi_fs__n_features_\": 1, \"test_score\": 0.6162037037037036}, {\"dt__max_depth\": 5, \"dt__min_samples_split\": 20, \"rfi_fs__n_features_\": 2, \"test_score\": 0.6449805068226121}, {\"dt__max_depth\": 5, \"dt__min_samples_split\": 20, \"rfi_fs__n_features_\": 3, \"test_score\": 0.6922270955165691}, {\"dt__max_depth\": 5, \"dt__min_samples_split\": 20, \"rfi_fs__n_features_\": 4, \"test_score\": 0.684746588693957}, {\"dt__max_depth\": 5, \"dt__min_samples_split\": 20, \"rfi_fs__n_features_\": 5, \"test_score\": 0.6844785575048733}, {\"dt__max_depth\": 5, \"dt__min_samples_split\": 20, \"rfi_fs__n_features_\": 6, \"test_score\": 0.6877680311890838}, {\"dt__max_depth\": 5, \"dt__min_samples_split\": 20, \"rfi_fs__n_features_\": 7, \"test_score\": 0.6921539961013644}, {\"dt__max_depth\": 5, \"dt__min_samples_split\": 20, \"rfi_fs__n_features_\": 8, \"test_score\": 0.6807261208576999}, {\"dt__max_depth\": 5, \"dt__min_samples_split\": 20, \"rfi_fs__n_features_\": 9, \"test_score\": 0.6810672514619883}, {\"dt__max_depth\": 5, \"dt__min_samples_split\": 20, \"rfi_fs__n_features_\": 10, \"test_score\": 0.6822124756335283}, {\"dt__max_depth\": 5, \"dt__min_samples_split\": 20, \"rfi_fs__n_features_\": 10, \"test_score\": 0.6788011695906433}, {\"dt__max_depth\": 5, \"dt__min_samples_split\": 50, \"rfi_fs__n_features_\": 1, \"test_score\": 0.6305068226120857}, {\"dt__max_depth\": 5, \"dt__min_samples_split\": 50, \"rfi_fs__n_features_\": 2, \"test_score\": 0.6662524366471735}, {\"dt__max_depth\": 5, \"dt__min_samples_split\": 50, \"rfi_fs__n_features_\": 3, \"test_score\": 0.6930068226120857}, {\"dt__max_depth\": 5, \"dt__min_samples_split\": 50, \"rfi_fs__n_features_\": 4, \"test_score\": 0.69203216374269}, {\"dt__max_depth\": 5, \"dt__min_samples_split\": 50, \"rfi_fs__n_features_\": 5, \"test_score\": 0.6968567251461988}, {\"dt__max_depth\": 5, \"dt__min_samples_split\": 50, \"rfi_fs__n_features_\": 6, \"test_score\": 0.6937134502923977}, {\"dt__max_depth\": 5, \"dt__min_samples_split\": 50, \"rfi_fs__n_features_\": 7, \"test_score\": 0.69541910331384}, {\"dt__max_depth\": 5, \"dt__min_samples_split\": 50, \"rfi_fs__n_features_\": 8, \"test_score\": 0.682504873294347}, {\"dt__max_depth\": 5, \"dt__min_samples_split\": 50, \"rfi_fs__n_features_\": 9, \"test_score\": 0.6882309941520467}, {\"dt__max_depth\": 5, \"dt__min_samples_split\": 50, \"rfi_fs__n_features_\": 10, \"test_score\": 0.6863547758284602}, {\"dt__max_depth\": 5, \"dt__min_samples_split\": 50, \"rfi_fs__n_features_\": 10, \"test_score\": 0.6863547758284602}, {\"dt__max_depth\": 5, \"dt__min_samples_split\": 70, \"rfi_fs__n_features_\": 1, \"test_score\": 0.6422270955165691}, {\"dt__max_depth\": 5, \"dt__min_samples_split\": 70, \"rfi_fs__n_features_\": 2, \"test_score\": 0.6710282651072126}, {\"dt__max_depth\": 5, \"dt__min_samples_split\": 70, \"rfi_fs__n_features_\": 3, \"test_score\": 0.7008284600389864}, {\"dt__max_depth\": 5, \"dt__min_samples_split\": 70, \"rfi_fs__n_features_\": 4, \"test_score\": 0.7071150097465887}, {\"dt__max_depth\": 5, \"dt__min_samples_split\": 70, \"rfi_fs__n_features_\": 5, \"test_score\": 0.7190545808966862}, {\"dt__max_depth\": 5, \"dt__min_samples_split\": 70, \"rfi_fs__n_features_\": 6, \"test_score\": 0.6957602339181286}, {\"dt__max_depth\": 5, \"dt__min_samples_split\": 70, \"rfi_fs__n_features_\": 7, \"test_score\": 0.6987085769980508}, {\"dt__max_depth\": 5, \"dt__min_samples_split\": 70, \"rfi_fs__n_features_\": 8, \"test_score\": 0.7022660818713451}, {\"dt__max_depth\": 5, \"dt__min_samples_split\": 70, \"rfi_fs__n_features_\": 9, \"test_score\": 0.6939814814814815}, {\"dt__max_depth\": 5, \"dt__min_samples_split\": 70, \"rfi_fs__n_features_\": 10, \"test_score\": 0.6944444444444444}, {\"dt__max_depth\": 5, \"dt__min_samples_split\": 70, \"rfi_fs__n_features_\": 10, \"test_score\": 0.69432261208577}, {\"dt__max_depth\": 5, \"dt__min_samples_split\": 100, \"rfi_fs__n_features_\": 1, \"test_score\": 0.6565545808966861}, {\"dt__max_depth\": 5, \"dt__min_samples_split\": 100, \"rfi_fs__n_features_\": 2, \"test_score\": 0.6674707602339179}, {\"dt__max_depth\": 5, \"dt__min_samples_split\": 100, \"rfi_fs__n_features_\": 3, \"test_score\": 0.6998538011695907}, {\"dt__max_depth\": 5, \"dt__min_samples_split\": 100, \"rfi_fs__n_features_\": 4, \"test_score\": 0.7004385964912282}, {\"dt__max_depth\": 5, \"dt__min_samples_split\": 100, \"rfi_fs__n_features_\": 5, \"test_score\": 0.6973927875243665}, {\"dt__max_depth\": 5, \"dt__min_samples_split\": 100, \"rfi_fs__n_features_\": 6, \"test_score\": 0.6987573099415205}, {\"dt__max_depth\": 5, \"dt__min_samples_split\": 100, \"rfi_fs__n_features_\": 7, \"test_score\": 0.6978313840155945}, {\"dt__max_depth\": 5, \"dt__min_samples_split\": 100, \"rfi_fs__n_features_\": 8, \"test_score\": 0.700657894736842}, {\"dt__max_depth\": 5, \"dt__min_samples_split\": 100, \"rfi_fs__n_features_\": 9, \"test_score\": 0.7012183235867447}, {\"dt__max_depth\": 5, \"dt__min_samples_split\": 100, \"rfi_fs__n_features_\": 10, \"test_score\": 0.7012183235867447}, {\"dt__max_depth\": 5, \"dt__min_samples_split\": 100, \"rfi_fs__n_features_\": 10, \"test_score\": 0.7015594541910332}, {\"dt__max_depth\": 6, \"dt__min_samples_split\": 20, \"rfi_fs__n_features_\": 1, \"test_score\": 0.620906432748538}, {\"dt__max_depth\": 6, \"dt__min_samples_split\": 20, \"rfi_fs__n_features_\": 2, \"test_score\": 0.6589912280701754}, {\"dt__max_depth\": 6, \"dt__min_samples_split\": 20, \"rfi_fs__n_features_\": 3, \"test_score\": 0.6735136452241715}, {\"dt__max_depth\": 6, \"dt__min_samples_split\": 20, \"rfi_fs__n_features_\": 4, \"test_score\": 0.6784600389863549}, {\"dt__max_depth\": 6, \"dt__min_samples_split\": 20, \"rfi_fs__n_features_\": 5, \"test_score\": 0.6761695906432749}, {\"dt__max_depth\": 6, \"dt__min_samples_split\": 20, \"rfi_fs__n_features_\": 6, \"test_score\": 0.6842836257309942}, {\"dt__max_depth\": 6, \"dt__min_samples_split\": 20, \"rfi_fs__n_features_\": 7, \"test_score\": 0.6960282651072125}, {\"dt__max_depth\": 6, \"dt__min_samples_split\": 20, \"rfi_fs__n_features_\": 8, \"test_score\": 0.6801413255360624}, {\"dt__max_depth\": 6, \"dt__min_samples_split\": 20, \"rfi_fs__n_features_\": 9, \"test_score\": 0.6867690058479533}, {\"dt__max_depth\": 6, \"dt__min_samples_split\": 20, \"rfi_fs__n_features_\": 10, \"test_score\": 0.6823099415204679}, {\"dt__max_depth\": 6, \"dt__min_samples_split\": 20, \"rfi_fs__n_features_\": 10, \"test_score\": 0.6827485380116961}, {\"dt__max_depth\": 6, \"dt__min_samples_split\": 50, \"rfi_fs__n_features_\": 1, \"test_score\": 0.6326998050682261}, {\"dt__max_depth\": 6, \"dt__min_samples_split\": 50, \"rfi_fs__n_features_\": 2, \"test_score\": 0.6548001949317739}, {\"dt__max_depth\": 6, \"dt__min_samples_split\": 50, \"rfi_fs__n_features_\": 3, \"test_score\": 0.6854044834307992}, {\"dt__max_depth\": 6, \"dt__min_samples_split\": 50, \"rfi_fs__n_features_\": 4, \"test_score\": 0.6899122807017544}, {\"dt__max_depth\": 6, \"dt__min_samples_split\": 50, \"rfi_fs__n_features_\": 5, \"test_score\": 0.692714424951267}, {\"dt__max_depth\": 6, \"dt__min_samples_split\": 50, \"rfi_fs__n_features_\": 6, \"test_score\": 0.7020224171539963}, {\"dt__max_depth\": 6, \"dt__min_samples_split\": 50, \"rfi_fs__n_features_\": 7, \"test_score\": 0.7015350877192983}, {\"dt__max_depth\": 6, \"dt__min_samples_split\": 50, \"rfi_fs__n_features_\": 8, \"test_score\": 0.702948343079922}, {\"dt__max_depth\": 6, \"dt__min_samples_split\": 50, \"rfi_fs__n_features_\": 9, \"test_score\": 0.6976851851851853}, {\"dt__max_depth\": 6, \"dt__min_samples_split\": 50, \"rfi_fs__n_features_\": 10, \"test_score\": 0.6971003898635478}, {\"dt__max_depth\": 6, \"dt__min_samples_split\": 50, \"rfi_fs__n_features_\": 10, \"test_score\": 0.6971734892787524}, {\"dt__max_depth\": 6, \"dt__min_samples_split\": 70, \"rfi_fs__n_features_\": 1, \"test_score\": 0.6448343079922026}, {\"dt__max_depth\": 6, \"dt__min_samples_split\": 70, \"rfi_fs__n_features_\": 2, \"test_score\": 0.6701998050682262}, {\"dt__max_depth\": 6, \"dt__min_samples_split\": 70, \"rfi_fs__n_features_\": 3, \"test_score\": 0.698416179337232}, {\"dt__max_depth\": 6, \"dt__min_samples_split\": 70, \"rfi_fs__n_features_\": 4, \"test_score\": 0.7066520467836258}, {\"dt__max_depth\": 6, \"dt__min_samples_split\": 70, \"rfi_fs__n_features_\": 5, \"test_score\": 0.7063596491228071}, {\"dt__max_depth\": 6, \"dt__min_samples_split\": 70, \"rfi_fs__n_features_\": 6, \"test_score\": 0.7028021442495128}, {\"dt__max_depth\": 6, \"dt__min_samples_split\": 70, \"rfi_fs__n_features_\": 7, \"test_score\": 0.7063840155945418}, {\"dt__max_depth\": 6, \"dt__min_samples_split\": 70, \"rfi_fs__n_features_\": 8, \"test_score\": 0.7163499025341131}, {\"dt__max_depth\": 6, \"dt__min_samples_split\": 70, \"rfi_fs__n_features_\": 9, \"test_score\": 0.7039473684210527}, {\"dt__max_depth\": 6, \"dt__min_samples_split\": 70, \"rfi_fs__n_features_\": 10, \"test_score\": 0.7041666666666667}, {\"dt__max_depth\": 6, \"dt__min_samples_split\": 70, \"rfi_fs__n_features_\": 10, \"test_score\": 0.7039961013645224}, {\"dt__max_depth\": 6, \"dt__min_samples_split\": 100, \"rfi_fs__n_features_\": 1, \"test_score\": 0.6541910331384014}, {\"dt__max_depth\": 6, \"dt__min_samples_split\": 100, \"rfi_fs__n_features_\": 2, \"test_score\": 0.6747076023391811}, {\"dt__max_depth\": 6, \"dt__min_samples_split\": 100, \"rfi_fs__n_features_\": 3, \"test_score\": 0.6953460038986354}, {\"dt__max_depth\": 6, \"dt__min_samples_split\": 100, \"rfi_fs__n_features_\": 4, \"test_score\": 0.7001218323586744}, {\"dt__max_depth\": 6, \"dt__min_samples_split\": 100, \"rfi_fs__n_features_\": 5, \"test_score\": 0.7088450292397661}, {\"dt__max_depth\": 6, \"dt__min_samples_split\": 100, \"rfi_fs__n_features_\": 6, \"test_score\": 0.6954678362573098}, {\"dt__max_depth\": 6, \"dt__min_samples_split\": 100, \"rfi_fs__n_features_\": 7, \"test_score\": 0.6963206627680311}, {\"dt__max_depth\": 6, \"dt__min_samples_split\": 100, \"rfi_fs__n_features_\": 8, \"test_score\": 0.6927875243664717}, {\"dt__max_depth\": 6, \"dt__min_samples_split\": 100, \"rfi_fs__n_features_\": 9, \"test_score\": 0.7066764132553607}, {\"dt__max_depth\": 6, \"dt__min_samples_split\": 100, \"rfi_fs__n_features_\": 10, \"test_score\": 0.7066764132553607}, {\"dt__max_depth\": 6, \"dt__min_samples_split\": 100, \"rfi_fs__n_features_\": 10, \"test_score\": 0.7066764132553607}, {\"dt__max_depth\": 7, \"dt__min_samples_split\": 20, \"rfi_fs__n_features_\": 1, \"test_score\": 0.5907163742690059}, {\"dt__max_depth\": 7, \"dt__min_samples_split\": 20, \"rfi_fs__n_features_\": 2, \"test_score\": 0.6314571150097466}, {\"dt__max_depth\": 7, \"dt__min_samples_split\": 20, \"rfi_fs__n_features_\": 3, \"test_score\": 0.6671296296296297}, {\"dt__max_depth\": 7, \"dt__min_samples_split\": 20, \"rfi_fs__n_features_\": 4, \"test_score\": 0.674342105263158}, {\"dt__max_depth\": 7, \"dt__min_samples_split\": 20, \"rfi_fs__n_features_\": 5, \"test_score\": 0.6671539961013645}, {\"dt__max_depth\": 7, \"dt__min_samples_split\": 20, \"rfi_fs__n_features_\": 6, \"test_score\": 0.6826510721247564}, {\"dt__max_depth\": 7, \"dt__min_samples_split\": 20, \"rfi_fs__n_features_\": 7, \"test_score\": 0.6778508771929824}, {\"dt__max_depth\": 7, \"dt__min_samples_split\": 20, \"rfi_fs__n_features_\": 8, \"test_score\": 0.6923976608187136}, {\"dt__max_depth\": 7, \"dt__min_samples_split\": 20, \"rfi_fs__n_features_\": 9, \"test_score\": 0.6755116959064328}, {\"dt__max_depth\": 7, \"dt__min_samples_split\": 20, \"rfi_fs__n_features_\": 10, \"test_score\": 0.6726364522417155}, {\"dt__max_depth\": 7, \"dt__min_samples_split\": 20, \"rfi_fs__n_features_\": 10, \"test_score\": 0.6718567251461988}, {\"dt__max_depth\": 7, \"dt__min_samples_split\": 50, \"rfi_fs__n_features_\": 1, \"test_score\": 0.6288011695906431}, {\"dt__max_depth\": 7, \"dt__min_samples_split\": 50, \"rfi_fs__n_features_\": 2, \"test_score\": 0.6619395711500975}, {\"dt__max_depth\": 7, \"dt__min_samples_split\": 50, \"rfi_fs__n_features_\": 3, \"test_score\": 0.7013645224171541}, {\"dt__max_depth\": 7, \"dt__min_samples_split\": 50, \"rfi_fs__n_features_\": 4, \"test_score\": 0.691349902534113}, {\"dt__max_depth\": 7, \"dt__min_samples_split\": 50, \"rfi_fs__n_features_\": 5, \"test_score\": 0.6926656920077973}, {\"dt__max_depth\": 7, \"dt__min_samples_split\": 50, \"rfi_fs__n_features_\": 6, \"test_score\": 0.6973927875243663}, {\"dt__max_depth\": 7, \"dt__min_samples_split\": 50, \"rfi_fs__n_features_\": 7, \"test_score\": 0.7152534113060428}, {\"dt__max_depth\": 7, \"dt__min_samples_split\": 50, \"rfi_fs__n_features_\": 8, \"test_score\": 0.696174463937622}, {\"dt__max_depth\": 7, \"dt__min_samples_split\": 50, \"rfi_fs__n_features_\": 9, \"test_score\": 0.6958333333333333}, {\"dt__max_depth\": 7, \"dt__min_samples_split\": 50, \"rfi_fs__n_features_\": 10, \"test_score\": 0.6919103313840156}, {\"dt__max_depth\": 7, \"dt__min_samples_split\": 50, \"rfi_fs__n_features_\": 10, \"test_score\": 0.6935428849902534}, {\"dt__max_depth\": 7, \"dt__min_samples_split\": 70, \"rfi_fs__n_features_\": 1, \"test_score\": 0.6432261208576998}, {\"dt__max_depth\": 7, \"dt__min_samples_split\": 70, \"rfi_fs__n_features_\": 2, \"test_score\": 0.6592348927875245}, {\"dt__max_depth\": 7, \"dt__min_samples_split\": 70, \"rfi_fs__n_features_\": 3, \"test_score\": 0.6954191033138402}, {\"dt__max_depth\": 7, \"dt__min_samples_split\": 70, \"rfi_fs__n_features_\": 4, \"test_score\": 0.7064814814814816}, {\"dt__max_depth\": 7, \"dt__min_samples_split\": 70, \"rfi_fs__n_features_\": 5, \"test_score\": 0.7126218323586744}, {\"dt__max_depth\": 7, \"dt__min_samples_split\": 70, \"rfi_fs__n_features_\": 6, \"test_score\": 0.7138401559454189}, {\"dt__max_depth\": 7, \"dt__min_samples_split\": 70, \"rfi_fs__n_features_\": 7, \"test_score\": 0.7171783625730994}, {\"dt__max_depth\": 7, \"dt__min_samples_split\": 70, \"rfi_fs__n_features_\": 8, \"test_score\": 0.7011695906432748}, {\"dt__max_depth\": 7, \"dt__min_samples_split\": 70, \"rfi_fs__n_features_\": 9, \"test_score\": 0.7000730994152047}, {\"dt__max_depth\": 7, \"dt__min_samples_split\": 70, \"rfi_fs__n_features_\": 10, \"test_score\": 0.6995370370370371}, {\"dt__max_depth\": 7, \"dt__min_samples_split\": 70, \"rfi_fs__n_features_\": 10, \"test_score\": 0.699317738791423}, {\"dt__max_depth\": 7, \"dt__min_samples_split\": 100, \"rfi_fs__n_features_\": 1, \"test_score\": 0.6500974658869395}, {\"dt__max_depth\": 7, \"dt__min_samples_split\": 100, \"rfi_fs__n_features_\": 2, \"test_score\": 0.677923976608187}, {\"dt__max_depth\": 7, \"dt__min_samples_split\": 100, \"rfi_fs__n_features_\": 3, \"test_score\": 0.6964424951267056}, {\"dt__max_depth\": 7, \"dt__min_samples_split\": 100, \"rfi_fs__n_features_\": 4, \"test_score\": 0.7001218323586744}, {\"dt__max_depth\": 7, \"dt__min_samples_split\": 100, \"rfi_fs__n_features_\": 5, \"test_score\": 0.6989278752436647}, {\"dt__max_depth\": 7, \"dt__min_samples_split\": 100, \"rfi_fs__n_features_\": 6, \"test_score\": 0.6967592592592593}, {\"dt__max_depth\": 7, \"dt__min_samples_split\": 100, \"rfi_fs__n_features_\": 7, \"test_score\": 0.6921296296296297}, {\"dt__max_depth\": 7, \"dt__min_samples_split\": 100, \"rfi_fs__n_features_\": 8, \"test_score\": 0.7014619883040936}, {\"dt__max_depth\": 7, \"dt__min_samples_split\": 100, \"rfi_fs__n_features_\": 9, \"test_score\": 0.7056042884990252}, {\"dt__max_depth\": 7, \"dt__min_samples_split\": 100, \"rfi_fs__n_features_\": 10, \"test_score\": 0.7052631578947368}, {\"dt__max_depth\": 7, \"dt__min_samples_split\": 100, \"rfi_fs__n_features_\": 10, \"test_score\": 0.7052631578947368}]}};\n",
       "var opt = {};\n",
       "var type = \"vega-lite\";\n",
       "var id = \"bd3838af-e27b-424a-92a1-903c6565b01c\";\n",
       "\n",
       "var output_area = this;\n",
       "\n",
       "require([\"nbextensions/jupyter-vega/index\"], function(vega) {\n",
       "  var target = document.createElement(\"div\");\n",
       "  target.id = id;\n",
       "  target.className = \"vega-embed\";\n",
       "\n",
       "  var style = document.createElement(\"style\");\n",
       "  style.textContent = [\n",
       "    \".vega-embed .error p {\",\n",
       "    \"  color: firebrick;\",\n",
       "    \"  font-size: 14px;\",\n",
       "    \"}\",\n",
       "  ].join(\"\\\\n\");\n",
       "\n",
       "  // element is a jQuery wrapped DOM element inside the output area\n",
       "  // see http://ipython.readthedocs.io/en/stable/api/generated/\\\n",
       "  // IPython.display.html#IPython.display.Javascript.__init__\n",
       "  element[0].appendChild(target);\n",
       "  element[0].appendChild(style);\n",
       "\n",
       "  vega.render(\"#\" + id, spec, type, opt, output_area);\n",
       "}, function (err) {\n",
       "  if (err.requireType !== \"scripterror\") {\n",
       "    throw(err);\n",
       "  }\n",
       "});\n"
      ],
      "text/plain": [
       "<vega.vegalite.VegaLite at 0x257abda7198>"
      ]
     },
     "metadata": {
      "jupyter-vega": "#bd3838af-e27b-424a-92a1-903c6565b01c"
     },
     "output_type": "display_data"
    },
    {
     "data": {
      "text/plain": []
     },
     "execution_count": 40,
     "metadata": {},
     "output_type": "execute_result"
    },
    {
     "data": {
      "image/png": "[encoded data removed]"
     },
     "metadata": {
      "jupyter-vega": "#bd3838af-e27b-424a-92a1-903c6565b01c"
     },
     "output_type": "display_data"
    }
   ],
   "source": [
    "import altair as alt\n",
    "alt.renderers.enable('notebook')\n",
    "alt.Chart(results_DT, \n",
    "          title='DT Performance Comparison'\n",
    "         ).mark_line(point=True).encode(\n",
    "    alt.X('rfi_fs__n_features_', title='No. of Features'),\n",
    "    alt.Y('test_score', title='Mean CV Score', aggregate='average', scale=alt.Scale(zero=False)),\n",
    "    alt.Color('dt__min_samples_split:N', title='Min Sample split')\n",
    ")| alt.Chart(results_DT, \n",
    "          title='DT Performance Comparison'\n",
    "         ).mark_line(point=True).encode(\n",
    "    alt.X('dt__max_depth', title='Max Depth'),\n",
    "    alt.Y('test_score', title='Mean CV Score', aggregate='average', scale=alt.Scale(zero=False)),\n",
    "    alt.Color('dt__min_samples_split:N')\n",
    ")"
   ]
  },
  {
   "cell_type": "markdown",
   "metadata": {},
   "source": [
    "# Performance Comparision<a class=\"anchor\" id=\"7\"></a><br>"
   ]
  },
  {
   "cell_type": "markdown",
   "metadata": {},
   "source": [
    "Throgh cross validation we can generate a mean result of each model then compare them through a t-test to see which model is best suited at predicting the outcome with respect to the recall scoring metric."
   ]
  },
  {
   "cell_type": "code",
   "execution_count": 41,
   "metadata": {},
   "outputs": [
    {
     "data": {
      "text/plain": [
       "0.6921025641025642"
      ]
     },
     "execution_count": 41,
     "metadata": {},
     "output_type": "execute_result"
    }
   ],
   "source": [
    "cv_method_ttest = RepeatedStratifiedKFold(n_splits=10,  \n",
    "                                          random_state=333)\n",
    "cv_results_KNN = cross_val_score(estimator=gs_pipe_KNN.best_estimator_,\n",
    "                                 X=D_test,\n",
    "                                 y=t_test, \n",
    "                                 cv=cv_method_ttest, \n",
    "                                 n_jobs=-2,\n",
    "                                 scoring=scoring_metric)\n",
    "cv_results_KNN.mean()"
   ]
  },
  {
   "cell_type": "code",
   "execution_count": 42,
   "metadata": {},
   "outputs": [
    {
     "data": {
      "text/plain": [
       "0.7377083333333335"
      ]
     },
     "execution_count": 42,
     "metadata": {},
     "output_type": "execute_result"
    }
   ],
   "source": [
    "cv_results_NB = cross_val_score(estimator=gs_pipe_NB.best_estimator_,\n",
    "                                X=D_test,\n",
    "                                y=t_test, \n",
    "                                cv=cv_method_ttest, \n",
    "                                n_jobs=-2,\n",
    "                                scoring=scoring_metric)\n",
    "cv_results_NB.mean()"
   ]
  },
  {
   "cell_type": "code",
   "execution_count": 43,
   "metadata": {},
   "outputs": [
    {
     "data": {
      "text/plain": [
       "0.6433958333333334"
      ]
     },
     "execution_count": 43,
     "metadata": {},
     "output_type": "execute_result"
    }
   ],
   "source": [
    "cv_results_DT = cross_val_score(estimator=gs_pipe_DT.best_estimator_,\n",
    "                                X=D_test,\n",
    "                                y=t_test, \n",
    "                                cv=cv_method_ttest, \n",
    "                                n_jobs=-2,\n",
    "                                scoring=scoring_metric)\n",
    "cv_results_DT.mean()"
   ]
  },
  {
   "cell_type": "code",
   "execution_count": 44,
   "metadata": {},
   "outputs": [
    {
     "name": "stdout",
     "output_type": "stream",
     "text": [
      "Ttest_relResult(statistic=4.475927888067043, pvalue=2.037315627599239e-05)\n",
      "Ttest_relResult(statistic=-3.514255729773215, pvalue=0.0006665649861694179)\n",
      "Ttest_relResult(statistic=-7.2495531137982825, pvalue=9.349971564541174e-11)\n"
     ]
    }
   ],
   "source": [
    "from scipy import stats\n",
    "\n",
    "print(stats.ttest_rel(cv_results_NB, cv_results_KNN))\n",
    "print(stats.ttest_rel(cv_results_DT, cv_results_KNN))\n",
    "print(stats.ttest_rel(cv_results_DT, cv_results_NB))"
   ]
  },
  {
   "cell_type": "markdown",
   "metadata": {},
   "source": [
    "From the results of the above statistical test we can see that at the 95% significance level, the NB model is statistically the best model in terms of roc_auc when compared on the test data."
   ]
  },
  {
   "cell_type": "code",
   "execution_count": 45,
   "metadata": {},
   "outputs": [],
   "source": [
    "KNN_pred = gs_pipe_KNN.predict(D_test)\n",
    "NB_pred = gs_pipe_NB.predict(D_test)\n",
    "DT_pred = gs_pipe_DT.predict(D_test)"
   ]
  },
  {
   "cell_type": "code",
   "execution_count": 46,
   "metadata": {},
   "outputs": [
    {
     "name": "stdout",
     "output_type": "stream",
     "text": [
      "              precision    recall  f1-score   support\n",
      "\n",
      "           0       0.38      0.44      0.41        45\n",
      "           1       0.79      0.74      0.77       129\n",
      "\n",
      "   micro avg       0.67      0.67      0.67       174\n",
      "   macro avg       0.59      0.59      0.59       174\n",
      "weighted avg       0.69      0.67      0.67       174\n",
      "\n",
      "              precision    recall  f1-score   support\n",
      "\n",
      "           0       0.54      0.49      0.51        45\n",
      "           1       0.83      0.85      0.84       129\n",
      "\n",
      "   micro avg       0.76      0.76      0.76       174\n",
      "   macro avg       0.68      0.67      0.68       174\n",
      "weighted avg       0.75      0.76      0.75       174\n",
      "\n",
      "              precision    recall  f1-score   support\n",
      "\n",
      "           0       0.36      0.09      0.14        45\n",
      "           1       0.75      0.95      0.84       129\n",
      "\n",
      "   micro avg       0.72      0.72      0.72       174\n",
      "   macro avg       0.56      0.52      0.49       174\n",
      "weighted avg       0.65      0.72      0.66       174\n",
      "\n"
     ]
    }
   ],
   "source": [
    "from sklearn import metrics\n",
    "print(metrics.classification_report(t_test, KNN_pred))\n",
    "print(metrics.classification_report(t_test, NB_pred))\n",
    "print(metrics.classification_report(t_test, DT_pred))"
   ]
  },
  {
   "cell_type": "code",
   "execution_count": 47,
   "metadata": {},
   "outputs": [
    {
     "name": "stdout",
     "output_type": "stream",
     "text": [
      "\n",
      "Classification report for K-Nearest Neighbor\n",
      "[[20 25]\n",
      " [33 96]]\n",
      "\n",
      "Classification report for Naive Bayes\n",
      "[[ 22  23]\n",
      " [ 19 110]]\n",
      "\n",
      "Classification report for Decision Tree\n",
      "[[  4  41]\n",
      " [  7 122]]\n"
     ]
    }
   ],
   "source": [
    "print(\"\\nClassification report for K-Nearest Neighbor\") \n",
    "print(metrics.confusion_matrix(t_test, KNN_pred))\n",
    "print(\"\\nClassification report for Naive Bayes\") \n",
    "print(metrics.confusion_matrix(t_test, NB_pred))\n",
    "print(\"\\nClassification report for Decision Tree\") \n",
    "print(metrics.confusion_matrix(t_test, DT_pred))"
   ]
  },
  {
   "cell_type": "markdown",
   "metadata": {},
   "source": [
    "We can see that both Naive Bayes and K-Nearest neighbours produce similar classification reports both been more well rounded allowing to more accurately classify if someone has the decease or not. though there is still some ambiguity about miss diagnosing a patient that has the decease. This is where the Decision tree model excels, with the highest recall score this model has 95% predict ability how ever the cost been that it will more likely miss diagnose that someone has the decease which could lead to legal ramifications."
   ]
  },
  {
   "cell_type": "markdown",
   "metadata": {},
   "source": [
    "# Critique<a class=\"anchor\" id=\"8\"></a><br>"
   ]
  },
  {
   "cell_type": "markdown",
   "metadata": {},
   "source": [
    "The final product models generated could have had alterations made that could have potentially imporved the models. Starting with the feature selection and ranking.<br> \n",
    "When it came to feature selection to use I only chose to consider 3 different options and 1 for ranking, this been due to my lack of feature selection methods knowledge (FSM) as well as how to implement them into a pipeline. However in the future I would implement a great variety of FSM to allow for a more indepth analysis on which features to implement.<br>\n",
    "Our Naives Bayes model was statistically better than its counterparts, however this model could have potentially been improved, if I chose to produce 2 separate models a Gaussian NB and a Bernoulli NB then multiple them toegether to produce a final prediction score, it may have produced a better result having better utilised the dummy variable in the data set."
   ]
  },
  {
   "cell_type": "markdown",
   "metadata": {},
   "source": [
    "# Summary & Conclusion<a class=\"anchor\" id=\"9\"></a><br>"
   ]
  },
  {
   "cell_type": "markdown",
   "metadata": {},
   "source": [
    "The decision tree model with 3 of the best features calculated through the random forests importance (RFI) produced the highest cross validated recall score on the given training data. After testing 3 different feature selection methods and finding that mutual information produced slightly stronger results, I chose to use random forests (RF) as my feature selection method. Through RF the Naive Bayes model produced the the most accurate roc_auc model with respect to K-Nearest neighbours and Decision trees. Though the Decision tree model produced the greatest recall score, which is an important scoring method for trying to correctly predict liver decease while trying to minimise false diagnosing a patient who has cancer as otherwise."
   ]
  }
 ],
 "metadata": {
  "kernelspec": {
   "display_name": "Python 3",
   "language": "python",
   "name": "python3"
  },
  "language_info": {
   "codemirror_mode": {
    "name": "ipython",
    "version": 3
   },
   "file_extension": ".py",
   "mimetype": "text/x-python",
   "name": "python",
   "nbconvert_exporter": "python",
   "pygments_lexer": "ipython3",
   "version": "3.7.1"
  }
 },
 "nbformat": 4,
 "nbformat_minor": 2
}
